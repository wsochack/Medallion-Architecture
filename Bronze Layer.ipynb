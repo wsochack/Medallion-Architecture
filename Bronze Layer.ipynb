{
 "cells": [
  {
   "cell_type": "markdown",
   "metadata": {
    "application/vnd.databricks.v1+cell": {
     "cellMetadata": {
      "byteLimit": 2048000,
      "rowLimit": 10000
     },
     "inputWidgets": {},
     "nuid": "6c57ce2f-2946-4b82-a8db-9cd1cef34b29",
     "showTitle": false,
     "tableResultSettingsMap": {},
     "title": ""
    }
   },
   "source": [
    "%md\n",
    "WARSTWA BRĄZOWA - ARCHITEKTURA MEDALIONU\n",
    "\n",
    "Autor: Weronika Wąsikowska\n",
    "\n",
    "Opis: Pełna implementacja warstwy brązowej dla danych Stack Exchange"
   ]
  },
  {
   "cell_type": "code",
   "execution_count": 0,
   "metadata": {
    "application/vnd.databricks.v1+cell": {
     "cellMetadata": {
      "byteLimit": 2048000,
      "rowLimit": 10000
     },
     "inputWidgets": {},
     "nuid": "f2402024-1307-4dd2-8c63-2a4c7599e742",
     "showTitle": false,
     "tableResultSettingsMap": {},
     "title": ""
    }
   },
   "outputs": [],
   "source": [
    "from pyspark.sql import SparkSession\n",
    "\n",
    "# Tworzenie sesji Spark\n",
    "spark = SparkSession.builder.appName(\"BronzeLayer\").getOrCreate()"
   ]
  },
  {
   "cell_type": "code",
   "execution_count": 0,
   "metadata": {
    "application/vnd.databricks.v1+cell": {
     "cellMetadata": {
      "byteLimit": 2048000,
      "rowLimit": 10000
     },
     "inputWidgets": {},
     "nuid": "1ab18102-f964-4bd6-b2d2-763da13c9399",
     "showTitle": false,
     "tableResultSettingsMap": {},
     "title": ""
    }
   },
   "outputs": [
    {
     "output_type": "display_data",
     "data": {
      "text/html": [
       "<style scoped>\n",
       "  .table-result-container {\n",
       "    max-height: 300px;\n",
       "    overflow: auto;\n",
       "  }\n",
       "  table, th, td {\n",
       "    border: 1px solid black;\n",
       "    border-collapse: collapse;\n",
       "  }\n",
       "  th, td {\n",
       "    padding: 5px;\n",
       "  }\n",
       "  th {\n",
       "    text-align: left;\n",
       "  }\n",
       "</style><div class='table-result-container'><table class='table-result'><thead style='background-color: white'><tr><th>path</th><th>name</th><th>size</th><th>modificationTime</th></tr></thead><tbody><tr><td>dbfs:/FileStore/tables/Badges.xml</td><td>Badges.xml</td><td>18158773</td><td>1741787269000</td></tr><tr><td>dbfs:/FileStore/tables/Comments.xml</td><td>Comments.xml</td><td>35074960</td><td>1741787275000</td></tr><tr><td>dbfs:/FileStore/tables/PostHistory.xml</td><td>PostHistory.xml</td><td>207523334</td><td>1741787345000</td></tr><tr><td>dbfs:/FileStore/tables/PostLinks.xml</td><td>PostLinks.xml</td><td>622527</td><td>1741787276000</td></tr><tr><td>dbfs:/FileStore/tables/Posts.xml</td><td>Posts.xml</td><td>94459301</td><td>1741787313000</td></tr><tr><td>dbfs:/FileStore/tables/Tags.xml</td><td>Tags.xml</td><td>345262</td><td>1741787314000</td></tr><tr><td>dbfs:/FileStore/tables/Users.xml</td><td>Users.xml</td><td>26064495</td><td>1741787324000</td></tr><tr><td>dbfs:/FileStore/tables/Votes.xml</td><td>Votes.xml</td><td>63388433</td><td>1741787346000</td></tr></tbody></table></div>"
      ]
     },
     "metadata": {
      "application/vnd.databricks.v1+output": {
       "addedWidgets": {},
       "aggData": [],
       "aggError": "",
       "aggOverflow": false,
       "aggSchema": [],
       "aggSeriesLimitReached": false,
       "aggType": "",
       "arguments": {},
       "columnCustomDisplayInfos": {},
       "data": [
        [
         "dbfs:/FileStore/tables/Badges.xml",
         "Badges.xml",
         18158773,
         1741787269000
        ],
        [
         "dbfs:/FileStore/tables/Comments.xml",
         "Comments.xml",
         35074960,
         1741787275000
        ],
        [
         "dbfs:/FileStore/tables/PostHistory.xml",
         "PostHistory.xml",
         207523334,
         1741787345000
        ],
        [
         "dbfs:/FileStore/tables/PostLinks.xml",
         "PostLinks.xml",
         622527,
         1741787276000
        ],
        [
         "dbfs:/FileStore/tables/Posts.xml",
         "Posts.xml",
         94459301,
         1741787313000
        ],
        [
         "dbfs:/FileStore/tables/Tags.xml",
         "Tags.xml",
         345262,
         1741787314000
        ],
        [
         "dbfs:/FileStore/tables/Users.xml",
         "Users.xml",
         26064495,
         1741787324000
        ],
        [
         "dbfs:/FileStore/tables/Votes.xml",
         "Votes.xml",
         63388433,
         1741787346000
        ]
       ],
       "datasetInfos": [],
       "dbfsResultPath": null,
       "isJsonSchema": true,
       "metadata": {},
       "overflow": false,
       "plotOptions": {
        "customPlotOptions": {},
        "displayType": "table",
        "pivotAggregation": null,
        "pivotColumns": null,
        "xColumns": null,
        "yColumns": null
       },
       "removedWidgets": [],
       "schema": [
        {
         "metadata": "{}",
         "name": "path",
         "type": "\"string\""
        },
        {
         "metadata": "{}",
         "name": "name",
         "type": "\"string\""
        },
        {
         "metadata": "{}",
         "name": "size",
         "type": "\"long\""
        },
        {
         "metadata": "{}",
         "name": "modificationTime",
         "type": "\"long\""
        }
       ],
       "type": "table"
      }
     },
     "output_type": "display_data"
    }
   ],
   "source": [
    "display(dbutils.fs.ls(\"/FileStore/tables/\"))"
   ]
  },
  {
   "cell_type": "code",
   "execution_count": 0,
   "metadata": {
    "application/vnd.databricks.v1+cell": {
     "cellMetadata": {
      "byteLimit": 2048000,
      "rowLimit": 10000
     },
     "inputWidgets": {},
     "nuid": "24d1d604-3cf2-4054-bb98-2a8f01ce8914",
     "showTitle": false,
     "tableResultSettingsMap": {},
     "title": ""
    }
   },
   "outputs": [],
   "source": [
    "# Ścieżki do plików XML\n",
    "file_path_badges = \"/FileStore/tables/Badges.xml\"\n",
    "file_path_posts = \"/FileStore/tables/Posts.xml\"\n",
    "file_path_users = \"/FileStore/tables/Users.xml\"\n",
    "file_path_comments = \"/FileStore/tables/Comments.xml\"\n",
    "file_path_tags = \"/FileStore/tables/Tags.xml\"\n",
    "file_path_votes = \"/FileStore/tables/Votes.xml\"\n",
    "file_path_post_links = \"/FileStore/tables/PostLinks.xml\"\n",
    "file_path_post_history = \"/FileStore/tables/PostHistory.xml\"\n"
   ]
  },
  {
   "cell_type": "code",
   "execution_count": 0,
   "metadata": {
    "application/vnd.databricks.v1+cell": {
     "cellMetadata": {
      "byteLimit": 2048000,
      "rowLimit": 10000
     },
     "inputWidgets": {},
     "nuid": "d2a6e6c6-0435-4018-af54-7b53ea1862ab",
     "showTitle": false,
     "tableResultSettingsMap": {},
     "title": ""
    }
   },
   "outputs": [],
   "source": [
    "# Ładowanie danych z pliku XML do DataFrame’ów\n",
    "df_badges = spark.read.format(\"xml\").option(\"rowTag\",\"row\").load(file_path_badges)\n",
    "df_posts = spark.read.format(\"xml\").option(\"rowTag\",\"row\").load(file_path_posts)\n",
    "df_users = spark.read.format(\"xml\").option(\"rowTag\",\"row\").load(file_path_users)\n",
    "df_comments = spark.read.format(\"xml\").option(\"rowTag\",\"row\").load(file_path_comments)\n",
    "df_tags = spark.read.format(\"xml\").option(\"rowTag\",\"row\").load(file_path_tags)\n",
    "df_votes = spark.read.format(\"xml\").option(\"rowTag\",\"row\").load(file_path_votes)\n",
    "df_post_links = spark.read.format(\"xml\").option(\"rowTag\",\"row\").load(file_path_post_links)\n",
    "df_post_history = spark.read.format(\"xml\").option(\"rowTag\",\"row\").load(file_path_post_history)\n"
   ]
  },
  {
   "cell_type": "code",
   "execution_count": 0,
   "metadata": {
    "application/vnd.databricks.v1+cell": {
     "cellMetadata": {
      "byteLimit": 2048000,
      "rowLimit": 10000
     },
     "inputWidgets": {},
     "nuid": "d51a822d-c493-4d45-a4f2-b21377b47b71",
     "showTitle": false,
     "tableResultSettingsMap": {},
     "title": ""
    }
   },
   "outputs": [
    {
     "output_type": "stream",
     "name": "stdout",
     "output_type": "stream",
     "text": [
      "+------+--------------------+---+--------------+---------+-------+\n|_Class|               _Date|_Id|         _Name|_TagBased|_UserId|\n+------+--------------------+---+--------------+---------+-------+\n|     3|2011-11-30 18:10:...|  1|Autobiographer|    false|      1|\n|     3|2011-11-30 18:15:...|  2|Autobiographer|    false|      2|\n|     3|2011-11-30 18:15:...|  3|Autobiographer|    false|      3|\n|     3|2011-11-30 18:45:...|  4|Autobiographer|    false|      5|\n|     3|2011-11-30 18:45:...|  5|Autobiographer|    false|      7|\n+------+--------------------+---+--------------+---------+-------+\nonly showing top 5 rows\n\n+-----------------+------------+--------------------+-----------+-------------+-------------------+---------------+--------------------+--------------+---+--------------------+--------------------+----------------------+-----------------+-----------------+------------+---------+-----------+------+--------------------+--------------------+----------+\n|_AcceptedAnswerId|_AnswerCount|               _Body|_ClosedDate|_CommentCount|_CommunityOwnedDate|_ContentLicense|       _CreationDate|_FavoriteCount|_Id|   _LastActivityDate|       _LastEditDate|_LastEditorDisplayName|_LastEditorUserId|_OwnerDisplayName|_OwnerUserId|_ParentId|_PostTypeId|_Score|               _Tags|              _Title|_ViewCount|\n+-----------------+------------+--------------------+-----------+-------------+-------------------+---------------+--------------------+--------------+---+--------------------+--------------------+----------------------+-----------------+-----------------+------------+---------+-----------+------+--------------------+--------------------+----------+\n|             2776|           2|<p>Some comedians...|       null|            0|               null|   CC BY-SA 4.0|2011-11-30 19:15:...|          null|  1|2022-02-12 21:59:...|2022-02-12 21:59:...|                  null|            94442|             null|          11|     null|          1|    32|  <wedding-crashers>|To what extent we...|      8700|\n|             null|        null|<p>According to t...|       null|            3|               null|   CC BY-SA 3.0|2011-11-30 19:37:...|          null|  2|2011-11-30 19:37:...|                null|                  null|             null|             null|          31|        1|          2|    15|                null|                null|      null|\n|              814|           2|<p>In his Star Wa...|       null|            2|               null|   CC BY-SA 4.0|2011-11-30 19:41:...|          null|  3|2019-05-15 02:23:...|2019-05-15 02:23:...|                  null|            70064|             null|          41|     null|          1|    30|<analysis><star-w...|Evaluating charac...|      1967|\n|              120|           5|<p>I'm a big fan ...|       null|            2|               null|   CC BY-SA 3.0|2011-11-30 19:42:...|          null|  4|2020-11-18 17:05:...|2013-08-17 20:17:...|                  null|               22|             null|          22|     null|          1|    59|<comedy><the-pink...|Was the original ...|      4236|\n|               21|           2|<p>At the end of ...|       null|            0|               null|   CC BY-SA 3.0|2011-11-30 19:44:...|          null|  6|2013-06-06 20:02:...|2013-06-06 12:05:...|                  null|               49|             null|          34|     null|          1|    16|<plot-explanation...|What does the end...|      8432|\n+-----------------+------------+--------------------+-----------+-------------+-------------------+---------------+--------------------+--------------+---+--------------------+--------------------+----------------------+-----------------+-----------------+------------+---------+-----------+------+--------------------+--------------------+----------+\nonly showing top 5 rows\n\n+--------------------+----------+--------------------+------------+----------+---+--------------------+--------------------+-----------+--------+------+--------------------+\n|            _AboutMe|_AccountId|       _CreationDate|_DisplayName|_DownVotes|_Id|     _LastAccessDate|           _Location|_Reputation|_UpVotes|_Views|         _WebsiteUrl|\n+--------------------+----------+--------------------+------------+----------+---+--------------------+--------------------+-----------+--------+------+--------------------+\n|<p>Hi, I'm not re...|        -1|2011-11-30 17:13:...|   Community|     10311| -1|2011-11-30 17:13:...|  on the server farm|          1|    5257|  1636|http://meta.stack...|\n|<p>Dev #2 who hel...|         2|2011-11-30 18:09:...|Geoff Dalgas|         0|  1|2017-02-22 20:07:...|       Corvallis, OR|        101|       2|  3030|http://stackoverf...|\n|<p>I am a Princip...|      7598|2011-11-30 18:10:...| Nick Craver|         0|  2|2021-09-28 20:49:...|   Winston-Salem, NC|        101|       1|    20|https://nickcrave...|\n|<p>My name is Ben...|     40051|2011-11-30 18:10:...|      balpha|         0|  3|2023-09-22 09:45:...|     Berlin, Germany|        101|       0|    18|https://social.ba...|\n|<p>I am from Mass...|    482633|2011-11-30 18:44:...|    Katey HW|         5|  4|2012-09-28 14:57:...|New York, United ...|        587|       5|    64|http://www.twitte...|\n+--------------------+----------+--------------------+------------+----------+---+--------------------+--------------------+-----------+--------+------+--------------------+\nonly showing top 5 rows\n\n+---------------+--------------------+---+-------+------+--------------------+----------------+-------+\n|_ContentLicense|       _CreationDate|_Id|_PostId|_Score|               _Text|_UserDisplayName|_UserId|\n+---------------+--------------------+---+-------+------+--------------------+----------------+-------+\n|   CC BY-SA 3.0|2011-11-30 19:53:...|  7|      8|     2|Blake Edwards als...|            null|     22|\n|   CC BY-SA 3.0|2011-11-30 19:55:...| 10|      4|     2|Interesting. I've...|            null|     29|\n|   CC BY-SA 3.0|2011-11-30 20:10:...| 11|      3|     0|Is that the hour ...|            null|     10|\n|   CC BY-SA 3.0|2011-11-30 21:53:...| 19|     17|     0|I know that Lucas...|            null|     36|\n|   CC BY-SA 3.0|2011-11-30 22:00:...| 20|     17|     0|@bazmegakapa - fa...|            null|     40|\n+---------------+--------------------+---+-------+------+--------------------+----------------+-------+\nonly showing top 5 rows\n\n+------+--------------+---+----------------+-----------+\n|_Count|_ExcerptPostId|_Id|        _TagName|_WikiPostId|\n+------+--------------+---+----------------+-----------+\n|    71|           280|  1|          comedy|        279|\n|  1403|           113|  2|        analysis|        112|\n|   326|           233|  5|          ending|        232|\n|     6|         55014|  8|the-tree-of-life|      55013|\n|   440|            74|  9|       star-wars|         73|\n+------+--------------+---+----------------+-----------+\nonly showing top 5 rows\n\n+-------------+-------------------+---+-------+-------+-----------+\n|_BountyAmount|      _CreationDate|_Id|_PostId|_UserId|_VoteTypeId|\n+-------------+-------------------+---+-------+-------+-----------+\n|         null|2011-11-30 00:00:00|  1|      1|   null|          2|\n|         null|2011-11-30 00:00:00|  2|      1|   null|          2|\n|         null|2011-11-30 00:00:00|  3|      1|   null|          2|\n|         null|2011-11-30 00:00:00|  4|      2|   null|          2|\n|         null|2011-11-30 00:00:00|  5|      3|   null|          2|\n+-------------+-------------------+---+-------+-------+-----------+\nonly showing top 5 rows\n\n+--------------------+----+-----------+-------+--------------+\n|       _CreationDate| _Id|_LinkTypeId|_PostId|_RelatedPostId|\n+--------------------+----+-----------+-------+--------------+\n|2011-12-01 16:34:...| 948|          1|     65|            90|\n|2011-12-04 06:07:...|1722|          1|     99|            33|\n|2011-12-04 06:07:...|1723|          1|     99|            53|\n|2011-12-09 16:14:...|3828|          1|    382|           328|\n|2011-12-10 15:26:...|4298|          1|    387|           334|\n+--------------------+----+-----------+-------+--------------+\nonly showing top 5 rows\n\n+--------+---------------+--------------------+---+------------------+-------+--------------------+--------------------+----------------+-------+\n|_Comment|_ContentLicense|       _CreationDate|_Id|_PostHistoryTypeId|_PostId|       _RevisionGUID|               _Text|_UserDisplayName|_UserId|\n+--------+---------------+--------------------+---+------------------+-------+--------------------+--------------------+----------------+-------+\n|    null|   CC BY-SA 3.0|2011-11-30 19:15:...|  1|                 2|      1|795c1d80-a1a4-463...|Some comedian/act...|            null|     11|\n|    null|   CC BY-SA 3.0|2011-11-30 19:15:...|  2|                 1|      1|795c1d80-a1a4-463...|To what extent we...|            null|     11|\n|    null|   CC BY-SA 3.0|2011-11-30 19:15:...|  3|                 3|      1|795c1d80-a1a4-463...|            <comedy>|            null|     11|\n|    null|   CC BY-SA 3.0|2011-11-30 19:37:...|  4|                 2|      2|1784653c-82cf-4a9...|According to the ...|            null|     31|\n|    null|   CC BY-SA 3.0|2011-11-30 19:41:...|  5|                 2|      3|4e779e91-b845-443...|In his Star Wars ...|            null|     41|\n+--------+---------------+--------------------+---+------------------+-------+--------------------+--------------------+----------------+-------+\nonly showing top 5 rows\n\n"
     ]
    }
   ],
   "source": [
    "# Sprawdzenie czy dane zostały poprawnie wczytane \n",
    "df_badges.show(5)\n",
    "df_posts.show(5)\n",
    "df_users.show(5)\n",
    "df_comments.show(5)\n",
    "df_tags.show(5)\n",
    "df_votes.show(5)\n",
    "df_post_links.show(5)\n",
    "df_post_history.show(5)"
   ]
  },
  {
   "cell_type": "markdown",
   "metadata": {
    "application/vnd.databricks.v1+cell": {
     "cellMetadata": {
      "byteLimit": 2048000,
      "rowLimit": 10000
     },
     "inputWidgets": {},
     "nuid": "1e2a6c07-79ea-47de-8b19-4944452d76a2",
     "showTitle": false,
     "tableResultSettingsMap": {},
     "title": ""
    }
   },
   "source": [
    "Analiza danych"
   ]
  },
  {
   "cell_type": "code",
   "execution_count": 0,
   "metadata": {
    "application/vnd.databricks.v1+cell": {
     "cellMetadata": {
      "byteLimit": 2048000,
      "rowLimit": 10000
     },
     "inputWidgets": {},
     "nuid": "325f825f-4096-4c48-bd39-3387e54c5cfa",
     "showTitle": false,
     "tableResultSettingsMap": {},
     "title": ""
    }
   },
   "outputs": [
    {
     "output_type": "stream",
     "name": "stdout",
     "output_type": "stream",
     "text": [
      "Struktura tabel w warstwie brązowej:\n\n Schemat tabeli: badges\nroot\n |-- _Class: long (nullable = true)\n |-- _Date: timestamp (nullable = true)\n |-- _Id: long (nullable = true)\n |-- _Name: string (nullable = true)\n |-- _TagBased: boolean (nullable = true)\n |-- _UserId: long (nullable = true)\n\n\n Schemat tabeli: posts\nroot\n |-- _AcceptedAnswerId: long (nullable = true)\n |-- _AnswerCount: long (nullable = true)\n |-- _Body: string (nullable = true)\n |-- _ClosedDate: timestamp (nullable = true)\n |-- _CommentCount: long (nullable = true)\n |-- _CommunityOwnedDate: timestamp (nullable = true)\n |-- _ContentLicense: string (nullable = true)\n |-- _CreationDate: timestamp (nullable = true)\n |-- _FavoriteCount: long (nullable = true)\n |-- _Id: long (nullable = true)\n |-- _LastActivityDate: timestamp (nullable = true)\n |-- _LastEditDate: timestamp (nullable = true)\n |-- _LastEditorDisplayName: string (nullable = true)\n |-- _LastEditorUserId: long (nullable = true)\n |-- _OwnerDisplayName: string (nullable = true)\n |-- _OwnerUserId: long (nullable = true)\n |-- _ParentId: long (nullable = true)\n |-- _PostTypeId: long (nullable = true)\n |-- _Score: long (nullable = true)\n |-- _Tags: string (nullable = true)\n |-- _Title: string (nullable = true)\n |-- _ViewCount: long (nullable = true)\n\n\n Schemat tabeli: users\nroot\n |-- _AboutMe: string (nullable = true)\n |-- _AccountId: long (nullable = true)\n |-- _CreationDate: timestamp (nullable = true)\n |-- _DisplayName: string (nullable = true)\n |-- _DownVotes: long (nullable = true)\n |-- _Id: long (nullable = true)\n |-- _LastAccessDate: timestamp (nullable = true)\n |-- _Location: string (nullable = true)\n |-- _Reputation: long (nullable = true)\n |-- _UpVotes: long (nullable = true)\n |-- _Views: long (nullable = true)\n |-- _WebsiteUrl: string (nullable = true)\n\n\n Schemat tabeli: comments\nroot\n |-- _ContentLicense: string (nullable = true)\n |-- _CreationDate: timestamp (nullable = true)\n |-- _Id: long (nullable = true)\n |-- _PostId: long (nullable = true)\n |-- _Score: long (nullable = true)\n |-- _Text: string (nullable = true)\n |-- _UserDisplayName: string (nullable = true)\n |-- _UserId: long (nullable = true)\n\n\n Schemat tabeli: tags\nroot\n |-- _Count: long (nullable = true)\n |-- _ExcerptPostId: long (nullable = true)\n |-- _Id: long (nullable = true)\n |-- _TagName: string (nullable = true)\n |-- _WikiPostId: long (nullable = true)\n\n\n Schemat tabeli: votes\nroot\n |-- _BountyAmount: long (nullable = true)\n |-- _CreationDate: timestamp (nullable = true)\n |-- _Id: long (nullable = true)\n |-- _PostId: long (nullable = true)\n |-- _UserId: long (nullable = true)\n |-- _VoteTypeId: long (nullable = true)\n\n\n Schemat tabeli: post_links\nroot\n |-- _CreationDate: timestamp (nullable = true)\n |-- _Id: long (nullable = true)\n |-- _LinkTypeId: long (nullable = true)\n |-- _PostId: long (nullable = true)\n |-- _RelatedPostId: long (nullable = true)\n\n\n Schemat tabeli: post_history\nroot\n |-- _Comment: string (nullable = true)\n |-- _ContentLicense: string (nullable = true)\n |-- _CreationDate: timestamp (nullable = true)\n |-- _Id: long (nullable = true)\n |-- _PostHistoryTypeId: long (nullable = true)\n |-- _PostId: long (nullable = true)\n |-- _RevisionGUID: string (nullable = true)\n |-- _Text: string (nullable = true)\n |-- _UserDisplayName: string (nullable = true)\n |-- _UserId: long (nullable = true)\n\n"
     ]
    }
   ],
   "source": [
    "from pyspark.sql import functions as F\n",
    "from pyspark.sql.functions import countDistinct\n",
    "\n",
    "# Wyświetlenie schematów tabel\n",
    "print(\"Struktura tabel w warstwie brązowej:\")\n",
    "for name, df in {\n",
    "    \"badges\": df_badges,\n",
    "    \"posts\": df_posts,\n",
    "    \"users\": df_users,\n",
    "    \"comments\": df_comments,\n",
    "    \"tags\": df_tags,\n",
    "    \"votes\": df_votes,\n",
    "    \"post_links\": df_post_links,\n",
    "    \"post_history\": df_post_history\n",
    "}.items():\n",
    "    print(f\"\\n Schemat tabeli: {name}\")\n",
    "    df.printSchema()"
   ]
  },
  {
   "cell_type": "code",
   "execution_count": 0,
   "metadata": {
    "application/vnd.databricks.v1+cell": {
     "cellMetadata": {
      "byteLimit": 2048000,
      "rowLimit": 10000
     },
     "inputWidgets": {},
     "nuid": "defcab55-58b6-4fd3-ab70-fc21d9b941a4",
     "showTitle": false,
     "tableResultSettingsMap": {},
     "title": ""
    }
   },
   "outputs": [
    {
     "output_type": "stream",
     "name": "stdout",
     "output_type": "stream",
     "text": [
      "\n Liczba rekordów w tabelach:\nbadges: 159496 rekordów\nposts: 64988 rekordów\nusers: 75729 rekordów\ncomments: 103194 rekordów\ntags: 4774 rekordów\nvotes: 688874 rekordów\npost_links: 5439 rekordów\npost_history: 246174 rekordów\n"
     ]
    }
   ],
   "source": [
    "# Sprawdzenie liczby rekordów w tabelach\n",
    "print(\"\\n Liczba rekordów w tabelach:\")\n",
    "for name, df in {\n",
    "    \"badges\": df_badges,\n",
    "    \"posts\": df_posts,\n",
    "    \"users\": df_users,\n",
    "    \"comments\": df_comments,\n",
    "    \"tags\": df_tags,\n",
    "    \"votes\": df_votes,\n",
    "    \"post_links\": df_post_links,\n",
    "    \"post_history\": df_post_history\n",
    "}.items():\n",
    "    print(f\"{name}: {df.count()} rekordów\")"
   ]
  },
  {
   "cell_type": "code",
   "execution_count": 0,
   "metadata": {
    "application/vnd.databricks.v1+cell": {
     "cellMetadata": {
      "byteLimit": 2048000,
      "rowLimit": 10000
     },
     "inputWidgets": {},
     "nuid": "ea80397e-c89a-4d90-99bd-f6f5070f0678",
     "showTitle": false,
     "tableResultSettingsMap": {},
     "title": ""
    }
   },
   "outputs": [
    {
     "output_type": "stream",
     "name": "stdout",
     "output_type": "stream",
     "text": [
      "\n Sprawdzanie unikalności i poprawności zakresu _Id w tabelach:\n\n badges:\n   - 159496 unikalnych wartości _Id na 159496 rekordów\n   - Maksymalna wartość _Id: 188551\n\n posts:\n   - 64988 unikalnych wartości _Id na 64988 rekordów\n   - Maksymalna wartość _Id: 122259\n\n users:\n   - 75729 unikalnych wartości _Id na 75729 rekordów\n   - Maksymalna wartość _Id: 103794\n\n comments:\n   - 103194 unikalnych wartości _Id na 103194 rekordów\n   - Maksymalna wartość _Id: 217512\n\n tags:\n   - 4774 unikalnych wartości _Id na 4774 rekordów\n   - Maksymalna wartość _Id: 9391\n\n votes:\n   - 688874 unikalnych wartości _Id na 688874 rekordów\n   - Maksymalna wartość _Id: 794163\n\n post_links:\n   - 5439 unikalnych wartości _Id na 5439 rekordów\n   - Maksymalna wartość _Id: 2281399\n\n post_history:\n   - 246174 unikalnych wartości _Id na 246174 rekordów\n   - Maksymalna wartość _Id: 482277\n"
     ]
    }
   ],
   "source": [
    "from pyspark.sql.functions import countDistinct, max\n",
    "\n",
    "print(\"\\n Sprawdzanie unikalności i poprawności zakresu _Id w tabelach:\")\n",
    "\n",
    "for name, df in {\n",
    "    \"badges\": df_badges,\n",
    "    \"posts\": df_posts,\n",
    "    \"users\": df_users,\n",
    "    \"comments\": df_comments,\n",
    "    \"tags\": df_tags,\n",
    "    \"votes\": df_votes,\n",
    "    \"post_links\": df_post_links,\n",
    "    \"post_history\": df_post_history\n",
    "}.items():\n",
    "    if \"_Id\" in df.columns:\n",
    "        total_count = df.count()\n",
    "        unique_count = df.select(countDistinct(\"_Id\")).collect()[0][0]\n",
    "        max_id = df.select(max(\"_Id\")).collect()[0][0]\n",
    "        \n",
    "        print(f\"\\n {name}:\")\n",
    "        print(f\"   - {unique_count} unikalnych wartości _Id na {total_count} rekordów\")\n",
    "        print(f\"   - Maksymalna wartość _Id: {max_id}\")\n"
   ]
  },
  {
   "cell_type": "code",
   "execution_count": 0,
   "metadata": {
    "application/vnd.databricks.v1+cell": {
     "cellMetadata": {
      "byteLimit": 2048000,
      "rowLimit": 10000
     },
     "inputWidgets": {},
     "nuid": "71a273fe-bce8-4fe5-915e-fcdac73ccd6e",
     "showTitle": false,
     "tableResultSettingsMap": {},
     "title": ""
    }
   },
   "outputs": [
    {
     "output_type": "stream",
     "name": "stdout",
     "output_type": "stream",
     "text": [
      "\n Sprawdzanie duplikatów na podstawie wszystkich kolumn poza _Id:\n\n badges:\nliczba potencjalnych duplikatów: 224\n\n posts:\nliczba potencjalnych duplikatów: 0\n\n comments:\nliczba potencjalnych duplikatów: 0\n\n votes:\nliczba potencjalnych duplikatów: 265542\n\n post_history:\nliczba potencjalnych duplikatów: 0\n\n post_links:\nliczba potencjalnych duplikatów: 0\n\n users:\nliczba potencjalnych duplikatów: 0\n\n tags:\nliczba potencjalnych duplikatów: 0\n"
     ]
    }
   ],
   "source": [
    "from pyspark.sql.functions import count\n",
    "\n",
    "print(\"\\n Sprawdzanie duplikatów na podstawie wszystkich kolumn poza _Id:\")\n",
    "\n",
    "df_list = {\n",
    "    \"badges\": df_badges,\n",
    "    \"posts\": df_posts,\n",
    "    \"comments\": df_comments,\n",
    "    \"votes\": df_votes,\n",
    "    \"post_history\": df_post_history,\n",
    "    \"post_links\": df_post_links,\n",
    "    \"users\": df_users,\n",
    "    \"tags\": df_tags\n",
    "}\n",
    "\n",
    "# Automatyczne wykrywanie kolumn poza _Id\n",
    "duplicate_checks = {table: [col for col in df.columns if col != \"_Id\"] for table, df in df_list.items()}\n",
    "\n",
    "for table, columns in duplicate_checks.items():\n",
    "    if table in df_list:\n",
    "        print(f\"\\n {table}:\")\n",
    "        total_count = df_list[table].count()\n",
    "        unique_count = df_list[table].dropDuplicates(columns).count()\n",
    "        duplicates = total_count - unique_count\n",
    "        print(f\"liczba potencjalnych duplikatów: {duplicates}\")\n"
   ]
  },
  {
   "cell_type": "code",
   "execution_count": 0,
   "metadata": {
    "application/vnd.databricks.v1+cell": {
     "cellMetadata": {
      "byteLimit": 2048000,
      "rowLimit": 10000
     },
     "inputWidgets": {},
     "nuid": "447c8d9c-2f07-4e81-bc63-57efb96085ed",
     "showTitle": false,
     "tableResultSettingsMap": {},
     "title": ""
    }
   },
   "outputs": [
    {
     "output_type": "stream",
     "name": "stdout",
     "output_type": "stream",
     "text": [
      "\n Wyświetlanie duplikatów tylko w tabelach, w których je wykryto:\n\n badges:\n+------+-----------------------+----------------+---------+-------+-----+\n|_Class|_Date                  |_Name           |_TagBased|_UserId|count|\n+------+-----------------------+----------------+---------+-------+-----+\n|2     |2016-10-24 18:29:18.34 |Enlightened     |false    |4386   |2    |\n|3     |2019-01-10 19:10:13.8  |Nice Question   |false    |40263  |2    |\n|2     |2019-06-18 17:40:13.563|Lifejacket      |false    |23541  |2    |\n|3     |2016-10-23 01:54:01.47 |Custodian       |false    |41249  |2    |\n|3     |2018-01-01 15:26:54.08 |Nice Answer     |false    |4386   |2    |\n|2     |2019-06-18 17:40:13.563|Lifejacket      |false    |5315   |2    |\n|3     |2015-12-18 21:47:58.99 |Custodian       |false    |6234   |2    |\n|3     |2018-08-14 20:35:19.003|Custodian       |false    |21877  |2    |\n|3     |2012-09-21 23:20:17.88 |Custodian       |false    |52     |4    |\n|2     |2017-08-11 20:03:42.987|Guru            |false    |42655  |2    |\n|3     |2018-12-12 13:35:01.38 |Revival         |false    |49     |2    |\n|3     |2018-02-15 12:15:41.733|Custodian       |false    |46980  |2    |\n|2     |2014-08-26 16:04:36.673|Enlightened     |false    |4386   |2    |\n|2     |2019-04-16 15:35:13.863|Enlightened     |false    |34317  |2    |\n|2     |2019-12-10 05:50:12.353|Enlightened     |false    |1190   |2    |\n|2     |2014-08-11 16:33:35.367|Enlightened     |false    |4386   |2    |\n|3     |2015-08-03 08:20:36.943|Nice Question   |false    |52     |2    |\n|2     |2019-05-21 17:55:12.833|Notable Question|false    |74308  |2    |\n|3     |2013-01-25 18:54:07.72 |Custodian       |false    |206    |2    |\n|3     |2015-11-10 22:19:20.173|Custodian       |false    |20680  |2    |\n|3     |2019-02-23 12:50:06.97 |Custodian       |false    |53395  |2    |\n|3     |2012-09-29 11:31:07.44 |Custodian       |false    |43     |2    |\n|3     |2013-01-01 19:29:57.62 |Nice Answer     |false    |1606   |3    |\n|3     |2013-01-06 07:18:26.12 |Custodian       |false    |3408   |2    |\n|2     |2015-12-28 02:03:54.267|Enlightened     |false    |6306   |2    |\n|3     |2019-04-03 10:15:23.457|Nice Question   |false    |3271   |2    |\n|2     |2017-07-07 06:59:31.443|Enlightened     |false    |34317  |2    |\n|3     |2019-03-27 18:25:17.137|Nice Question   |false    |49     |3    |\n|3     |2016-03-15 13:37:03.477|Custodian       |false    |13595  |2    |\n|3     |2012-09-25 14:53:28.143|Custodian       |false    |1190   |2    |\n|3     |2017-04-09 21:42:51.313|Custodian       |false    |47145  |2    |\n|3     |2020-10-02 00:35:41.16 |Custodian       |false    |48930  |2    |\n|3     |2013-08-06 23:38:07.737|Custodian       |false    |29     |2    |\n|3     |2013-10-01 12:56:39.86 |Custodian       |false    |564    |2    |\n|3     |2014-09-19 21:48:23.043|Custodian       |false    |211    |3    |\n|3     |2017-11-08 00:10:40.147|Custodian       |false    |31866  |2    |\n|3     |2019-12-12 22:40:04.293|Announcer       |false    |52     |2    |\n|2     |2017-03-28 01:24:38.243|Enlightened     |false    |34317  |2    |\n|3     |2019-07-17 09:10:19.27 |Custodian       |false    |106    |2    |\n|3     |2014-08-26 15:01:49.997|Custodian       |false    |781    |2    |\n|3     |2013-06-12 05:49:53.693|Custodian       |false    |4739   |2    |\n|2     |2017-10-03 13:27:12.543|Necromancer     |false    |49     |2    |\n|3     |2018-05-05 13:48:36.943|Custodian       |false    |16374  |2    |\n|2     |2017-12-29 13:11:58.16 |Guru            |false    |27264  |2    |\n|3     |2013-07-25 06:29:37.61 |Custodian       |false    |29     |2    |\n|3     |2014-01-10 06:01:08.743|Custodian       |false    |1357   |2    |\n|3     |2013-06-05 07:34:15.613|Custodian       |false    |3888   |2    |\n|3     |2013-11-23 03:17:31.153|Custodian       |false    |50     |2    |\n|3     |2017-09-26 00:35:08.46 |Nice Question   |false    |43257  |2    |\n|3     |2019-05-25 04:10:00.503|Nice Answer     |false    |16420  |2    |\n|3     |2012-11-04 02:03:07.223|Nice Question   |false    |556    |2    |\n|3     |2018-12-27 08:30:11.793|Revival         |false    |4386   |2    |\n|3     |2015-10-18 15:55:22.457|Revival         |false    |22792  |3    |\n|3     |2012-12-19 21:27:24.447|Custodian       |false    |1992   |2    |\n|3     |2014-04-01 14:01:36.08 |Custodian       |false    |8071   |2    |\n|3     |2018-11-21 10:50:01.183|Nice Answer     |false    |23541  |2    |\n|3     |2019-05-21 10:15:19.853|Revival         |false    |8219   |2    |\n|3     |2019-10-02 07:30:10.607|Custodian       |false    |7969   |2    |\n|2     |2019-01-22 14:05:36.247|Necromancer     |false    |4386   |2    |\n|3     |2013-07-30 09:09:54.44 |Custodian       |false    |5603   |2    |\n|3     |2016-02-16 12:13:15.17 |Revival         |false    |8219   |2    |\n|3     |2016-06-16 14:11:06.007|Custodian       |false    |18110  |2    |\n|3     |2023-06-25 08:55:06.73 |Custodian       |false    |84750  |2    |\n|3     |2024-01-07 17:41:55.2  |Revival         |false    |100979 |2    |\n|3     |2013-02-28 21:21:50.22 |Nice Answer     |false    |1357   |2    |\n|3     |2017-01-28 23:13:32.127|Nice Question   |false    |24301  |2    |\n|3     |2012-09-21 23:20:17.88 |Custodian       |false    |1501   |2    |\n|3     |2013-08-06 10:03:56.847|Custodian       |false    |5603   |2    |\n|3     |2019-06-14 10:55:19.037|Nice Answer     |false    |4386   |2    |\n|3     |2014-08-11 14:50:03.683|Nice Answer     |false    |4386   |2    |\n|3     |2018-04-30 02:54:00.357|Custodian       |false    |59981  |2    |\n|3     |2012-09-26 04:03:29.433|Custodian       |false    |417    |2    |\n|3     |2016-08-15 01:53:59.97 |Nice Question   |false    |24301  |2    |\n|3     |2017-07-06 16:19:24.057|Revival         |false    |42655  |2    |\n|1     |2021-01-29 17:09:02.133|Steward         |false    |27264  |2    |\n|3     |2013-12-12 18:56:25.213|Custodian       |false    |6306   |3    |\n|3     |2017-02-02 08:48:47.12 |Custodian       |false    |22037  |2    |\n|3     |2013-08-17 17:15:53.58 |Custodian       |false    |1461   |2    |\n|2     |2019-06-18 17:40:13.563|Lifejacket      |false    |1146   |2    |\n|2     |2016-06-28 13:47:11.1  |Good Answer     |false    |304    |2    |\n|3     |2015-12-15 11:30:29.05 |Revival         |false    |22993  |2    |\n|2     |2019-04-30 13:55:04.91 |Enlightened     |false    |13407  |2    |\n|2     |2019-12-12 16:15:25.94 |Enlightened     |false    |22424  |2    |\n|2     |2016-02-05 23:33:27.68 |Notable Question|false    |24020  |2    |\n|3     |2016-06-21 00:00:44.667|Custodian       |false    |27759  |2    |\n|3     |2019-05-04 08:35:15.06 |Custodian       |false    |63559  |2    |\n|3     |2013-07-02 13:18:03.913|Custodian       |false    |1992   |2    |\n|3     |2015-09-18 10:39:05.143|Nice Answer     |false    |5603   |2    |\n|3     |2019-12-12 22:40:04.293|Announcer       |false    |1190   |3    |\n|3     |2019-04-16 16:35:03.023|Popular Question|false    |71256  |2    |\n|2     |2017-02-06 11:05:45.757|Guru            |false    |34317  |2    |\n|3     |2018-02-16 03:03:02.73 |Custodian       |false    |57106  |2    |\n|3     |2013-09-28 11:55:25.43 |Custodian       |false    |286    |2    |\n|2     |2019-06-18 17:40:13.563|Lifejacket      |false    |34317  |3    |\n|3     |2019-01-10 19:10:13.8  |Nice Question   |false    |20680  |2    |\n|3     |2023-01-24 08:08:07.683|Custodian       |false    |53946  |2    |\n|3     |2019-12-12 22:40:04.293|Announcer       |false    |49     |10   |\n|3     |2017-09-05 07:43:57.427|Custodian       |false    |20215  |2    |\n|2     |2019-06-18 17:40:13.563|Lifejacket      |false    |1190   |6    |\n|3     |2017-12-14 04:50:48.793|Nice Question   |false    |24301  |2    |\n+------+-----------------------+----------------+---------+-------+-----+\nonly showing top 100 rows\n\n\n votes:\n+-------------+-------------------+-------+-------+-----------+-----+\n|_BountyAmount|_CreationDate      |_PostId|_UserId|_VoteTypeId|count|\n+-------------+-------------------+-------+-------+-----------+-----+\n|null         |2011-12-08 00:00:00|314    |null   |2          |2    |\n|null         |2011-12-09 00:00:00|393    |null   |2          |2    |\n|null         |2011-12-10 00:00:00|403    |null   |2          |5    |\n|null         |2011-12-16 00:00:00|534    |null   |3          |4    |\n|null         |2011-12-19 00:00:00|592    |null   |2          |2    |\n|null         |2011-12-22 00:00:00|488    |null   |2          |2    |\n|null         |2012-01-05 00:00:00|760    |null   |2          |3    |\n|null         |2012-01-19 00:00:00|954    |null   |2          |4    |\n|null         |2012-01-25 00:00:00|1041   |null   |2          |9    |\n|null         |2012-02-25 00:00:00|1421   |null   |2          |2    |\n|null         |2012-03-11 00:00:00|1558   |null   |2          |3    |\n|null         |2012-05-04 00:00:00|2210   |null   |2          |4    |\n|null         |2012-06-18 00:00:00|2906   |null   |15         |2    |\n|null         |2012-06-23 00:00:00|2979   |null   |2          |7    |\n|null         |2012-06-28 00:00:00|3055   |null   |2          |3    |\n|null         |2012-07-16 00:00:00|2713   |null   |2          |2    |\n|null         |2012-07-18 00:00:00|3337   |null   |6          |2    |\n|null         |2012-08-10 00:00:00|3701   |null   |2          |3    |\n|null         |2012-08-13 00:00:00|3735   |null   |2          |2    |\n|null         |2012-08-27 00:00:00|3932   |null   |2          |6    |\n|null         |2012-09-01 00:00:00|3986   |null   |2          |2    |\n|null         |2012-09-07 00:00:00|4048   |null   |2          |3    |\n|null         |2012-09-20 00:00:00|4203   |null   |2          |3    |\n|null         |2012-10-03 00:00:00|4461   |null   |2          |2    |\n|null         |2012-10-11 00:00:00|4568   |null   |2          |2    |\n|null         |2012-11-01 00:00:00|6866   |null   |2          |3    |\n|null         |2012-11-13 00:00:00|2157   |null   |2          |2    |\n|null         |2012-12-10 00:00:00|8569   |null   |2          |4    |\n|null         |2012-12-16 00:00:00|8694   |null   |2          |3    |\n|null         |2012-12-29 00:00:00|9059   |null   |2          |3    |\n|null         |2013-01-02 00:00:00|9141   |null   |2          |4    |\n|null         |2013-03-26 00:00:00|10713  |null   |2          |2    |\n|null         |2013-04-16 00:00:00|10968  |null   |15         |2    |\n|null         |2013-05-06 00:00:00|11262  |null   |2          |3    |\n|null         |2013-05-08 00:00:00|11318  |null   |2          |2    |\n|null         |2013-05-14 00:00:00|11412  |null   |2          |2    |\n|null         |2013-05-19 00:00:00|11483  |null   |2          |5    |\n|null         |2013-06-07 00:00:00|3903   |null   |2          |2    |\n|null         |2013-06-19 00:00:00|12075  |null   |2          |8    |\n|null         |2013-06-21 00:00:00|12118  |null   |2          |3    |\n|null         |2013-07-07 00:00:00|12390  |null   |2          |5    |\n|null         |2013-07-12 00:00:00|12460  |null   |3          |2    |\n|null         |2013-07-22 00:00:00|3540   |null   |2          |2    |\n|null         |2013-07-25 00:00:00|12745  |null   |2          |4    |\n|null         |2013-07-28 00:00:00|12812  |null   |2          |2    |\n|null         |2013-07-29 00:00:00|12805  |null   |2          |3    |\n|null         |2013-08-02 00:00:00|12896  |null   |2          |3    |\n|null         |2013-08-07 00:00:00|12989  |null   |2          |6    |\n|null         |2013-08-09 00:00:00|13034  |null   |2          |4    |\n|null         |2013-08-16 00:00:00|13215  |null   |2          |4    |\n|null         |2013-10-10 00:00:00|14452  |null   |3          |3    |\n|null         |2013-10-16 00:00:00|12509  |null   |2          |2    |\n|null         |2013-12-12 00:00:00|15849  |null   |2          |2    |\n|null         |2013-12-16 00:00:00|15925  |null   |2          |2    |\n|null         |2013-12-18 00:00:00|15997  |null   |3          |3    |\n|null         |2013-12-20 00:00:00|16028  |null   |3          |2    |\n|null         |2013-12-24 00:00:00|16121  |null   |2          |3    |\n|null         |2014-01-02 00:00:00|16341  |null   |2          |5    |\n|null         |2014-01-07 00:00:00|16460  |null   |2          |7    |\n|null         |2014-01-18 00:00:00|15887  |null   |2          |2    |\n|null         |2014-02-02 00:00:00|17071  |null   |3          |2    |\n|null         |2014-02-08 00:00:00|17178  |null   |2          |3    |\n|null         |2014-02-12 00:00:00|17272  |null   |2          |2    |\n|null         |2014-02-17 00:00:00|17347  |null   |2          |2    |\n|null         |2014-02-27 00:00:00|17559  |null   |2          |2    |\n|null         |2014-03-10 00:00:00|17836  |null   |2          |2    |\n|null         |2014-03-10 00:00:00|17803  |null   |2          |2    |\n|null         |2014-03-16 00:00:00|18067  |null   |2          |2    |\n|null         |2014-03-17 00:00:00|18075  |null   |2          |4    |\n|null         |2014-03-22 00:00:00|18235  |null   |2          |3    |\n|null         |2014-03-23 00:00:00|18246  |null   |3          |2    |\n|null         |2014-04-22 00:00:00|18892  |null   |2          |2    |\n|null         |2014-04-24 00:00:00|18911  |null   |2          |2    |\n|null         |2014-05-06 00:00:00|19214  |null   |2          |2    |\n|null         |2014-05-26 00:00:00|2584   |null   |2          |2    |\n|null         |2014-06-14 00:00:00|2976   |null   |2          |2    |\n|null         |2014-06-23 00:00:00|21569  |null   |3          |4    |\n|null         |2014-06-28 00:00:00|21680  |null   |2          |2    |\n|null         |2014-07-24 00:00:00|23314  |null   |2          |3    |\n|null         |2014-08-14 00:00:00|23867  |null   |2          |3    |\n|null         |2014-08-21 00:00:00|24053  |null   |2          |2    |\n|null         |2014-08-29 00:00:00|24255  |null   |2          |10   |\n|null         |2014-09-14 00:00:00|24591  |null   |2          |3    |\n|null         |2014-09-16 00:00:00|24644  |null   |10         |3    |\n|null         |2014-09-20 00:00:00|24730  |null   |2          |2    |\n|null         |2014-09-21 00:00:00|24741  |null   |10         |3    |\n|null         |2014-09-27 00:00:00|24885  |null   |3          |3    |\n|null         |2014-11-09 00:00:00|27050  |null   |3          |2    |\n|null         |2014-11-16 00:00:00|27199  |null   |2          |2    |\n|null         |2014-11-16 00:00:00|27207  |null   |2          |2    |\n|null         |2014-11-24 00:00:00|27529  |null   |2          |2    |\n|null         |2014-12-08 00:00:00|9433   |null   |2          |2    |\n|null         |2014-12-08 00:00:00|27946  |null   |2          |2    |\n|null         |2014-12-18 00:00:00|28197  |null   |10         |3    |\n|null         |2015-01-03 00:00:00|28675  |null   |2          |7    |\n|null         |2015-01-05 00:00:00|28775  |null   |2          |3    |\n|null         |2015-02-05 00:00:00|30774  |null   |2          |5    |\n|null         |2015-02-06 00:00:00|30778  |null   |2          |3    |\n|null         |2015-02-10 00:00:00|30911  |null   |2          |4    |\n|null         |2015-02-23 00:00:00|31419  |null   |2          |6    |\n+-------------+-------------------+-------+-------+-----------+-----+\nonly showing top 100 rows\n\n"
     ]
    }
   ],
   "source": [
    "from pyspark.sql import functions as F\n",
    "\n",
    "# Tabele, w których wykryto duplikaty\n",
    "tables_with_duplicates = [\"badges\", \"votes\"]\n",
    "\n",
    "print(\"\\n Wyświetlanie duplikatów tylko w tabelach, w których je wykryto:\")\n",
    "\n",
    "for table in tables_with_duplicates:\n",
    "    if table in df_list:\n",
    "        # Pobranie wszystkich kolumn poza `_Id`\n",
    "        columns = [col for col in df_list[table].columns if col != \"_Id\"]\n",
    "\n",
    "        if columns:\n",
    "            print(f\"\\n {table}:\")\n",
    "            \n",
    "            # Grupowanie i filtrowanie duplikatów\n",
    "            dupe_df = df_list[table].groupBy(columns).count().filter(F.col(\"count\") > 1)\n",
    "            \n",
    "            if dupe_df.count() > 0:\n",
    "                dupe_df.show(truncate=False, n=100)\n",
    "            else:\n",
    "                print(f\"Brak duplikatów w tabeli {table}.\")\n",
    "\n",
    "\n"
   ]
  },
  {
   "cell_type": "code",
   "execution_count": 0,
   "metadata": {
    "application/vnd.databricks.v1+cell": {
     "cellMetadata": {
      "byteLimit": 2048000,
      "rowLimit": 10000
     },
     "inputWidgets": {},
     "nuid": "f9bfda46-b329-42ab-8c50-836f55960dfa",
     "showTitle": false,
     "tableResultSettingsMap": {},
     "title": ""
    }
   },
   "outputs": [
    {
     "output_type": "stream",
     "name": "stdout",
     "output_type": "stream",
     "text": [
      "\n Analiza brakujących wartości w tabelach:\n\n Tabela badges - brakujące wartości:\n+------+-----+---+-----+---------+-------+\n|_Class|_Date|_Id|_Name|_TagBased|_UserId|\n+------+-----+---+-----+---------+-------+\n|     0|    0|  0|    0|        0|      0|\n+------+-----+---+-----+---------+-------+\n\n\n Tabela posts - brakujące wartości:\n+-----------------+------------+-----+-----------+-------------+-------------------+---------------+-------------+--------------+---+-----------------+-------------+----------------------+-----------------+-----------------+------------+---------+-----------+------+-----+------+----------+\n|_AcceptedAnswerId|_AnswerCount|_Body|_ClosedDate|_CommentCount|_CommunityOwnedDate|_ContentLicense|_CreationDate|_FavoriteCount|_Id|_LastActivityDate|_LastEditDate|_LastEditorDisplayName|_LastEditorUserId|_OwnerDisplayName|_OwnerUserId|_ParentId|_PostTypeId|_Score|_Tags|_Title|_ViewCount|\n+-----------------+------------+-----+-----------+-------------+-------------------+---------------+-------------+--------------+---+-----------------+-------------+----------------------+-----------------+-----------------+------------+---------+-----------+------+-----+------+----------+\n|            51117|       42097|    0|      62896|            0|              64918|              0|            0|         60103|  0|                0|        23512|                 64036|            24214|            62865|        1953|    27373|          0|     0|42097| 42097|     42097|\n+-----------------+------------+-----+-----------+-------------+-------------------+---------------+-------------+--------------+---+-----------------+-------------+----------------------+-----------------+-----------------+------------+---------+-----------+------+-----+------+----------+\n\n\n Tabela comments - brakujące wartości:\n+---------------+-------------+---+-------+------+-----+----------------+-------+\n|_ContentLicense|_CreationDate|_Id|_PostId|_Score|_Text|_UserDisplayName|_UserId|\n+---------------+-------------+---+-------+------+-----+----------------+-------+\n|              0|            0|  0|      0|     0|    0|           99352|   3842|\n+---------------+-------------+---+-------+------+-----+----------------+-------+\n\n\n Tabela votes - brakujące wartości:\n+-------------+-------------+---+-------+-------+-----------+\n|_BountyAmount|_CreationDate|_Id|_PostId|_UserId|_VoteTypeId|\n+-------------+-------------+---+-------+-------+-----------+\n|       687589|            0|  0|      0| 688086|          0|\n+-------------+-------------+---+-------+-------+-----------+\n\n\n Tabela post_history - brakujące wartości:\n+--------+---------------+-------------+---+------------------+-------+-------------+-----+----------------+-------+\n|_Comment|_ContentLicense|_CreationDate|_Id|_PostHistoryTypeId|_PostId|_RevisionGUID|_Text|_UserDisplayName|_UserId|\n+--------+---------------+-------------+---+------------------+-------+-------------+-----+----------------+-------+\n|  119456|          26687|            0|  0|                 0|      0|            0|32117|          240210|  30047|\n+--------+---------------+-------------+---+------------------+-------+-------------+-----+----------------+-------+\n\n\n Tabela post_links - brakujące wartości:\n+-------------+---+-----------+-------+--------------+\n|_CreationDate|_Id|_LinkTypeId|_PostId|_RelatedPostId|\n+-------------+---+-----------+-------+--------------+\n|            0|  0|          0|      0|             0|\n+-------------+---+-----------+-------+--------------+\n\n\n Tabela users - brakujące wartości:\n+--------+----------+-------------+------------+----------+---+---------------+---------+-----------+--------+------+-----------+\n|_AboutMe|_AccountId|_CreationDate|_DisplayName|_DownVotes|_Id|_LastAccessDate|_Location|_Reputation|_UpVotes|_Views|_WebsiteUrl|\n+--------+----------+-------------+------------+----------+---+---------------+---------+-----------+--------+------+-----------+\n|   51043|         2|            0|           0|         0|  0|              0|    49126|          0|       0|     0|      61224|\n+--------+----------+-------------+------------+----------+---+---------------+---------+-----------+--------+------+-----------+\n\n\n Tabela tags - brakujące wartości:\n+------+--------------+---+--------+-----------+\n|_Count|_ExcerptPostId|_Id|_TagName|_WikiPostId|\n+------+--------------+---+--------+-----------+\n|     0|          2851|  0|       0|       2851|\n+------+--------------+---+--------+-----------+\n\n"
     ]
    }
   ],
   "source": [
    "from pyspark.sql import functions as F\n",
    "\n",
    "# Analiza brakujących wartości\n",
    "print(\"\\n Analiza brakujących wartości w tabelach:\")\n",
    "\n",
    "for name, df in df_list.items():\n",
    "    print(f\"\\n Tabela {name} - brakujące wartości:\")\n",
    "    df.select([\n",
    "        F.count(F.when(F.col(c).isNull(), c)).alias(c) for c in df.columns\n",
    "    ]).show()\n"
   ]
  },
  {
   "cell_type": "code",
   "execution_count": 0,
   "metadata": {
    "application/vnd.databricks.v1+cell": {
     "cellMetadata": {
      "byteLimit": 2048000,
      "rowLimit": 10000
     },
     "inputWidgets": {},
     "nuid": "df06b64b-4126-43ea-ac43-8eb1d996ef2e",
     "showTitle": false,
     "tableResultSettingsMap": {},
     "title": ""
    }
   },
   "outputs": [
    {
     "output_type": "stream",
     "name": "stdout",
     "output_type": "stream",
     "text": [
      "\n Analiza zakresu dat:\n\n posts - najwcześniejsza i najpóźniejsza data w _CreationDate:\n+--------------------+--------------------+\n|            Earliest|              Latest|\n+--------------------+--------------------+\n|2011-10-03 15:29:...|2024-03-01 12:36:...|\n+--------------------+--------------------+\n\n\n comments - najwcześniejsza i najpóźniejsza data w _CreationDate:\n+--------------------+--------------------+\n|            Earliest|              Latest|\n+--------------------+--------------------+\n|2011-10-05 03:53:...|2024-03-01 16:27:...|\n+--------------------+--------------------+\n\n\n votes - najwcześniejsza i najpóźniejsza data w _CreationDate:\n+-------------------+-------------------+\n|           Earliest|             Latest|\n+-------------------+-------------------+\n|2011-10-03 00:00:00|2024-03-01 00:00:00|\n+-------------------+-------------------+\n\n\n users - najwcześniejsza i najpóźniejsza data w _CreationDate:\n+--------------------+--------------------+\n|            Earliest|              Latest|\n+--------------------+--------------------+\n|2011-11-30 17:13:...|2024-03-01 21:49:...|\n+--------------------+--------------------+\n\n"
     ]
    }
   ],
   "source": [
    "#Sprawdzenie poprawności dat\n",
    "\n",
    "date_columns = {\n",
    "    \"posts\": \"_CreationDate\",\n",
    "    \"comments\": \"_CreationDate\",\n",
    "    \"votes\": \"_CreationDate\",\n",
    "    \"users\": \"_CreationDate\"\n",
    "}\n",
    "\n",
    "print(\"\\n Analiza zakresu dat:\")\n",
    "for table, column in date_columns.items():\n",
    "    if table in df_list and column in df_list[table].columns:\n",
    "        print(f\"\\n {table} - najwcześniejsza i najpóźniejsza data w {column}:\")\n",
    "        df_list[table].select(F.min(column).alias(\"Earliest\"), F.max(column).alias(\"Latest\")).show()\n"
   ]
  },
  {
   "cell_type": "code",
   "execution_count": 0,
   "metadata": {
    "application/vnd.databricks.v1+cell": {
     "cellMetadata": {
      "byteLimit": 2048000,
      "rowLimit": 10000
     },
     "inputWidgets": {},
     "nuid": "0b01c0c9-ee4b-4f54-9b7f-91e7473f65d9",
     "showTitle": false,
     "tableResultSettingsMap": {},
     "title": ""
    }
   },
   "outputs": [
    {
     "output_type": "stream",
     "name": "stdout",
     "output_type": "stream",
     "text": [
      "\n Analiza skrajnych wartości w kolumnach liczbowych:\n\n🔹 badges - statystyki dla kolumn liczbowych:\n+----------+-------+-----------+----------+-------+-----------+\n|min__Class|min__Id|min__UserId|max__Class|max__Id|max__UserId|\n+----------+-------+-----------+----------+-------+-----------+\n|         1|      1|          1|         3| 188551|     103791|\n+----------+-------+-----------+----------+-------+-----------+\n\n\n🔹 posts - statystyki dla kolumn liczbowych:\n+---------------------+----------------+-----------------+------------------+-------+---------------------+----------------+-------------+---------------+----------+--------------+---------------------+----------------+-----------------+------------------+-------+---------------------+----------------+-------------+---------------+----------+--------------+\n|min__AcceptedAnswerId|min__AnswerCount|min__CommentCount|min__FavoriteCount|min__Id|min__LastEditorUserId|min__OwnerUserId|min__ParentId|min__PostTypeId|min__Score|min__ViewCount|max__AcceptedAnswerId|max__AnswerCount|max__CommentCount|max__FavoriteCount|max__Id|max__LastEditorUserId|max__OwnerUserId|max__ParentId|max__PostTypeId|max__Score|max__ViewCount|\n+---------------------+----------------+-----------------+------------------+-------+---------------------+----------------+-------------+---------------+----------+--------------+---------------------+----------------+-----------------+------------------+-------+---------------------+----------------+-------------+---------------+----------+--------------+\n|                   21|               0|                0|                 0|      1|                   -1|              -1|            1|              1|       -24|             9|               122259|              19|               45|                 1| 122259|               103733|          103733|       122255|              7|       327|       1532580|\n+---------------------+----------------+-----------------+------------------+-------+---------------------+----------------+-------------+---------------+----------+--------------+---------------------+----------------+-----------------+------------------+-------+---------------------+----------------+-------------+---------------+----------+--------------+\n\n\n🔹 comments - statystyki dla kolumn liczbowych:\n+-------+-----------+----------+-----------+-------+-----------+----------+-----------+\n|min__Id|min__PostId|min__Score|min__UserId|max__Id|max__PostId|max__Score|max__UserId|\n+-------+-----------+----------+-----------+-------+-----------+----------+-----------+\n|      7|          2|         0|         -1| 217512|     122257|       182|     103733|\n+-------+-----------+----------+-----------+-------+-----------+----------+-----------+\n\n\n🔹 votes - statystyki dla kolumn liczbowych:\n+-----------------+-------+-----------+-----------+---------------+-----------------+-------+-----------+-----------+---------------+\n|min__BountyAmount|min__Id|min__PostId|min__UserId|min__VoteTypeId|max__BountyAmount|max__Id|max__PostId|max__UserId|max__VoteTypeId|\n+-----------------+-------+-----------+-----------+---------------+-----------------+-------+-----------+-----------+---------------+\n|               25|      1|          1|         -1|              1|              500| 794163|     122259|     102751|             16|\n+-----------------+-------+-----------+-----------+---------------+-----------------+-------+-----------+-----------+---------------+\n\n\n🔹 post_history - statystyki dla kolumn liczbowych:\n+-------+----------------------+-----------+-----------+-------+----------------------+-----------+-----------+\n|min__Id|min__PostHistoryTypeId|min__PostId|min__UserId|max__Id|max__PostHistoryTypeId|max__PostId|max__UserId|\n+-------+----------------------+-----------+-----------+-------+----------------------+-----------+-----------+\n|      1|                     1|          1|         -1| 482277|                    53|     122259|     103733|\n+-------+----------------------+-----------+-----------+-------+----------------------+-----------+-----------+\n\n\n🔹 post_links - statystyki dla kolumn liczbowych:\n+-------+---------------+-----------+------------------+-------+---------------+-----------+------------------+\n|min__Id|min__LinkTypeId|min__PostId|min__RelatedPostId|max__Id|max__LinkTypeId|max__PostId|max__RelatedPostId|\n+-------+---------------+-----------+------------------+-------+---------------+-----------+------------------+\n|    948|              1|         19|                11|2281399|              3|     122228|            121990|\n+-------+---------------+-----------+------------------+-------+---------------+-----------+------------------+\n\n\n🔹 users - statystyki dla kolumn liczbowych:\n+--------------+--------------+-------+---------------+------------+----------+--------------+--------------+-------+---------------+------------+----------+\n|min__AccountId|min__DownVotes|min__Id|min__Reputation|min__UpVotes|min__Views|max__AccountId|max__DownVotes|max__Id|max__Reputation|max__UpVotes|max__Views|\n+--------------+--------------+-------+---------------+------------+----------+--------------+--------------+-------+---------------+------------+----------+\n|            -1|             0|     -1|              1|           0|         0|      30669344|         12940| 103794|         134881|       20042|     36109|\n+--------------+--------------+-------+---------------+------------+----------+--------------+--------------+-------+---------------+------------+----------+\n\n\n🔹 tags - statystyki dla kolumn liczbowych:\n+----------+------------------+-------+---------------+----------+------------------+-------+---------------+\n|min__Count|min__ExcerptPostId|min__Id|min__WikiPostId|max__Count|max__ExcerptPostId|max__Id|max__WikiPostId|\n+----------+------------------+-------+---------------+----------+------------------+-------+---------------+\n|         1|                41|      1|             40|      8372|            122242|   9391|         122241|\n+----------+------------------+-------+---------------+----------+------------------+-------+---------------+\n\n"
     ]
    }
   ],
   "source": [
    "# Sprawdzenie rozkładu danych\n",
    "\n",
    "from pyspark.sql import functions as F\n",
    "\n",
    "print(\"\\n Analiza skrajnych wartości w kolumnach liczbowych:\")\n",
    "\n",
    "for table, df in df_list.items():\n",
    "    numeric_columns = [c for c, t in df.dtypes if t in [\"int\", \"bigint\", \"double\", \"float\", \"long\"]]\n",
    "    \n",
    "    if numeric_columns:\n",
    "        print(f\"\\n🔹 {table} - statystyki dla kolumn liczbowych:\")\n",
    "        stats = [F.min(c).alias(f\"min_{c}\") for c in numeric_columns] + [F.max(c).alias(f\"max_{c}\") for c in numeric_columns]\n",
    "        df.select(stats).show()\n",
    "    else:\n",
    "        print(f\"\\n {table} - brak kolumn liczbowych do analizy.\")\n",
    "\n",
    "\n"
   ]
  },
  {
   "cell_type": "markdown",
   "metadata": {
    "application/vnd.databricks.v1+cell": {
     "cellMetadata": {
      "byteLimit": 2048000,
      "rowLimit": 10000
     },
     "inputWidgets": {},
     "nuid": "06f0f128-2b25-4f40-b076-cfe5166c5a6e",
     "showTitle": false,
     "tableResultSettingsMap": {},
     "title": ""
    }
   },
   "source": [
    "Raport i pobieranie"
   ]
  },
  {
   "cell_type": "code",
   "execution_count": 0,
   "metadata": {
    "application/vnd.databricks.v1+cell": {
     "cellMetadata": {
      "byteLimit": 2048000,
      "rowLimit": 10000
     },
     "inputWidgets": {},
     "nuid": "7da7ab8e-6ab4-451b-a928-c95649e0b2e9",
     "showTitle": false,
     "tableResultSettingsMap": {},
     "title": ""
    }
   },
   "outputs": [
    {
     "output_type": "display_data",
     "data": {
      "application/vnd.databricks.v1+bamboolib_hint": "{\"pd.DataFrames\": [], \"version\": \"0.0.1\"}",
      "text/plain": []
     },
     "metadata": {},
     "output_type": "display_data"
    },
    {
     "output_type": "stream",
     "name": "stdout",
     "output_type": "stream",
     "text": [
      " Raport został zapisany w /tmp/analiza_danych.csv. Możesz pobrać go z Databricks.\n"
     ]
    }
   ],
   "source": [
    "import pandas as pd\n",
    "\n",
    "# Lista do przechowywania wyników\n",
    "report_data = []\n",
    "\n",
    "#  1. Analiza duplikatów\n",
    "for table, df in df_list.items():\n",
    "    # Pobranie wszystkich kolumn poza `_Id`\n",
    "    columns = [col for col in df.columns if col != \"_Id\"]\n",
    "    \n",
    "    if columns:\n",
    "        dupe_count = df.groupBy(columns).count().filter(F.col(\"count\") > 1).count()\n",
    "        report_data.append({\"Tabela\": table, \"Typ analizy\": \"Duplikaty\", \"Wartość\": dupe_count})\n",
    "\n",
    "#  2. Analiza brakujących wartości\n",
    "for table, df in df_list.items():\n",
    "    null_counts = df.select([F.count(F.when(F.col(c).isNull(), c)).alias(c) for c in df.columns]).collect()[0].asDict()\n",
    "    \n",
    "    for col, count in null_counts.items():\n",
    "        if count > 0:  # Tylko kolumny, gdzie są braki\n",
    "            report_data.append({\"Tabela\": table, \"Typ analizy\": f\"Braki ({col})\", \"Wartość\": count})\n",
    "\n",
    "#  3. Analiza wartości skrajnych\n",
    "for table, df in df_list.items():\n",
    "    numeric_columns = [c for c, t in df.dtypes if t in [\"int\", \"bigint\", \"double\", \"float\", \"long\"]]\n",
    "    \n",
    "    if numeric_columns:\n",
    "        min_max_values = df.select(\n",
    "            [F.min(c).alias(f\"min_{c}\") for c in numeric_columns] + \n",
    "            [F.max(c).alias(f\"max_{c}\") for c in numeric_columns]\n",
    "        ).collect()[0].asDict()\n",
    "        \n",
    "        for key, value in min_max_values.items():\n",
    "            report_data.append({\"Tabela\": table, \"Typ analizy\": key, \"Wartość\": value})\n",
    "\n",
    "# Konwersja listy do DataFrame Pandas\n",
    "report_df = pd.DataFrame(report_data)\n",
    "\n",
    "# **Zapis pliku CSV do lokalizacji dostępnej w Databricks**\n",
    "csv_path = \"/tmp/analiza_danych.csv\"\n",
    "report_df.to_csv(csv_path, index=False)\n",
    "\n",
    "print(f\" Raport został zapisany w {csv_path}. Możesz pobrać go z Databricks.\")\n"
   ]
  },
  {
   "cell_type": "code",
   "execution_count": 0,
   "metadata": {
    "application/vnd.databricks.v1+cell": {
     "cellMetadata": {
      "byteLimit": 2048000,
      "rowLimit": 10000
     },
     "inputWidgets": {},
     "nuid": "2418f54b-0bae-410b-bf16-f8dc820aa2b1",
     "showTitle": false,
     "tableResultSettingsMap": {},
     "title": ""
    }
   },
   "outputs": [
    {
     "output_type": "stream",
     "name": "stdout",
     "output_type": "stream",
     "text": [
      "Out[15]: True"
     ]
    }
   ],
   "source": [
    "dbutils.fs.cp(\"file:/tmp/analiza_danych.csv\", \"dbfs:/FileStore/analiza_danych.csv\")"
   ]
  },
  {
   "cell_type": "code",
   "execution_count": 0,
   "metadata": {
    "application/vnd.databricks.v1+cell": {
     "cellMetadata": {
      "byteLimit": 2048000,
      "rowLimit": 10000
     },
     "inputWidgets": {},
     "nuid": "73864d94-1e0a-4baa-b673-504d3b113bf7",
     "showTitle": false,
     "tableResultSettingsMap": {},
     "title": ""
    }
   },
   "outputs": [
    {
     "output_type": "display_data",
     "data": {
      "text/html": [
       "<style scoped>\n",
       "  .table-result-container {\n",
       "    max-height: 300px;\n",
       "    overflow: auto;\n",
       "  }\n",
       "  table, th, td {\n",
       "    border: 1px solid black;\n",
       "    border-collapse: collapse;\n",
       "  }\n",
       "  th, td {\n",
       "    padding: 5px;\n",
       "  }\n",
       "  th {\n",
       "    text-align: left;\n",
       "  }\n",
       "</style><div class='table-result-container'><table class='table-result'><thead style='background-color: white'><tr><th>path</th><th>name</th><th>size</th><th>modificationTime</th></tr></thead><tbody><tr><td>dbfs:/FileStore/analiza_danych.csv</td><td>analiza_danych.csv</td><td>3249</td><td>1743712281000</td></tr><tr><td>dbfs:/FileStore/bronze/</td><td>bronze/</td><td>0</td><td>0</td></tr><tr><td>dbfs:/FileStore/export/</td><td>export/</td><td>0</td><td>0</td></tr><tr><td>dbfs:/FileStore/export-ready/</td><td>export-ready/</td><td>0</td><td>0</td></tr><tr><td>dbfs:/FileStore/gold/</td><td>gold/</td><td>0</td><td>0</td></tr><tr><td>dbfs:/FileStore/silver/</td><td>silver/</td><td>0</td><td>0</td></tr><tr><td>dbfs:/FileStore/tables/</td><td>tables/</td><td>0</td><td>0</td></tr></tbody></table></div>"
      ]
     },
     "metadata": {
      "application/vnd.databricks.v1+output": {
       "addedWidgets": {},
       "aggData": [],
       "aggError": "",
       "aggOverflow": false,
       "aggSchema": [],
       "aggSeriesLimitReached": false,
       "aggType": "",
       "arguments": {},
       "columnCustomDisplayInfos": {},
       "data": [
        [
         "dbfs:/FileStore/analiza_danych.csv",
         "analiza_danych.csv",
         3249,
         1743712281000
        ],
        [
         "dbfs:/FileStore/bronze/",
         "bronze/",
         0,
         0
        ],
        [
         "dbfs:/FileStore/export/",
         "export/",
         0,
         0
        ],
        [
         "dbfs:/FileStore/export-ready/",
         "export-ready/",
         0,
         0
        ],
        [
         "dbfs:/FileStore/gold/",
         "gold/",
         0,
         0
        ],
        [
         "dbfs:/FileStore/silver/",
         "silver/",
         0,
         0
        ],
        [
         "dbfs:/FileStore/tables/",
         "tables/",
         0,
         0
        ]
       ],
       "datasetInfos": [],
       "dbfsResultPath": null,
       "isJsonSchema": true,
       "metadata": {},
       "overflow": false,
       "plotOptions": {
        "customPlotOptions": {},
        "displayType": "table",
        "pivotAggregation": null,
        "pivotColumns": null,
        "xColumns": null,
        "yColumns": null
       },
       "removedWidgets": [],
       "schema": [
        {
         "metadata": "{}",
         "name": "path",
         "type": "\"string\""
        },
        {
         "metadata": "{}",
         "name": "name",
         "type": "\"string\""
        },
        {
         "metadata": "{}",
         "name": "size",
         "type": "\"long\""
        },
        {
         "metadata": "{}",
         "name": "modificationTime",
         "type": "\"long\""
        }
       ],
       "type": "table"
      }
     },
     "output_type": "display_data"
    }
   ],
   "source": [
    "display(dbutils.fs.ls(\"/FileStore/\"))"
   ]
  },
  {
   "cell_type": "code",
   "execution_count": 0,
   "metadata": {
    "application/vnd.databricks.v1+cell": {
     "cellMetadata": {
      "byteLimit": 2048000,
      "rowLimit": 10000
     },
     "inputWidgets": {},
     "nuid": "778d4c3b-86f4-4679-8fd4-e60c7942ed93",
     "showTitle": false,
     "tableResultSettingsMap": {},
     "title": ""
    }
   },
   "outputs": [
    {
     "output_type": "display_data",
     "data": {
      "text/html": [
       "<a href=\"/files/analiza_danych.csv\">Kliknij tutaj, aby pobrać plik</a>"
      ]
     },
     "metadata": {
      "application/vnd.databricks.v1+output": {
       "addedWidgets": {},
       "arguments": {},
       "data": "<a href=\"/files/analiza_danych.csv\">Kliknij tutaj, aby pobrać plik</a>",
       "datasetInfos": [],
       "metadata": {},
       "removedWidgets": [],
       "textData": null,
       "type": "htmlSandbox"
      }
     },
     "output_type": "display_data"
    }
   ],
   "source": [
    "displayHTML(f'<a href=\"/files/analiza_danych.csv\">Kliknij tutaj, aby pobrać plik</a>')"
   ]
  },
  {
   "cell_type": "code",
   "execution_count": 0,
   "metadata": {
    "application/vnd.databricks.v1+cell": {
     "cellMetadata": {
      "byteLimit": 2048000,
      "rowLimit": 10000
     },
     "inputWidgets": {},
     "nuid": "6541b8f1-d1a8-4f6c-bbe3-9551812fc682",
     "showTitle": false,
     "tableResultSettingsMap": {},
     "title": ""
    }
   },
   "outputs": [],
   "source": [
    "# Ścieżki docelowe do przechowywania danych w formacie Delta\n",
    "bronze_path = \"dbfs:/FileStore/bronze/\"\n",
    "\n",
    "delta_path_badges = bronze_path + \"badges\"\n",
    "delta_path_comments = bronze_path + \"comments\"\n",
    "delta_path_post_history = bronze_path + \"post_history\"\n",
    "delta_path_post_links = bronze_path + \"post_links\"\n",
    "delta_path_posts = bronze_path + \"posts\"\n",
    "delta_path_tags = bronze_path + \"tags\"\n",
    "delta_path_users = bronze_path + \"users\"\n",
    "delta_path_votes = bronze_path + \"votes\"\n"
   ]
  },
  {
   "cell_type": "code",
   "execution_count": 0,
   "metadata": {
    "application/vnd.databricks.v1+cell": {
     "cellMetadata": {
      "byteLimit": 2048000,
      "rowLimit": 10000
     },
     "inputWidgets": {},
     "nuid": "6e8e855d-8041-4275-8e82-7fcd8eec70fb",
     "showTitle": false,
     "tableResultSettingsMap": {},
     "title": ""
    }
   },
   "outputs": [
    {
     "output_type": "display_data",
     "data": {
      "text/html": [
       "<style scoped>\n",
       "  .table-result-container {\n",
       "    max-height: 300px;\n",
       "    overflow: auto;\n",
       "  }\n",
       "  table, th, td {\n",
       "    border: 1px solid black;\n",
       "    border-collapse: collapse;\n",
       "  }\n",
       "  th, td {\n",
       "    padding: 5px;\n",
       "  }\n",
       "  th {\n",
       "    text-align: left;\n",
       "  }\n",
       "</style><div class='table-result-container'><table class='table-result'><thead style='background-color: white'><tr><th>path</th><th>name</th><th>size</th><th>modificationTime</th></tr></thead><tbody><tr><td>dbfs:/FileStore/bronze/badges/</td><td>badges/</td><td>0</td><td>0</td></tr><tr><td>dbfs:/FileStore/bronze/comments/</td><td>comments/</td><td>0</td><td>0</td></tr><tr><td>dbfs:/FileStore/bronze/post_history/</td><td>post_history/</td><td>0</td><td>0</td></tr><tr><td>dbfs:/FileStore/bronze/post_links/</td><td>post_links/</td><td>0</td><td>0</td></tr><tr><td>dbfs:/FileStore/bronze/posts/</td><td>posts/</td><td>0</td><td>0</td></tr><tr><td>dbfs:/FileStore/bronze/tags/</td><td>tags/</td><td>0</td><td>0</td></tr><tr><td>dbfs:/FileStore/bronze/users/</td><td>users/</td><td>0</td><td>0</td></tr><tr><td>dbfs:/FileStore/bronze/votes/</td><td>votes/</td><td>0</td><td>0</td></tr></tbody></table></div>"
      ]
     },
     "metadata": {
      "application/vnd.databricks.v1+output": {
       "addedWidgets": {},
       "aggData": [],
       "aggError": "",
       "aggOverflow": false,
       "aggSchema": [],
       "aggSeriesLimitReached": false,
       "aggType": "",
       "arguments": {},
       "columnCustomDisplayInfos": {},
       "data": [
        [
         "dbfs:/FileStore/bronze/badges/",
         "badges/",
         0,
         0
        ],
        [
         "dbfs:/FileStore/bronze/comments/",
         "comments/",
         0,
         0
        ],
        [
         "dbfs:/FileStore/bronze/post_history/",
         "post_history/",
         0,
         0
        ],
        [
         "dbfs:/FileStore/bronze/post_links/",
         "post_links/",
         0,
         0
        ],
        [
         "dbfs:/FileStore/bronze/posts/",
         "posts/",
         0,
         0
        ],
        [
         "dbfs:/FileStore/bronze/tags/",
         "tags/",
         0,
         0
        ],
        [
         "dbfs:/FileStore/bronze/users/",
         "users/",
         0,
         0
        ],
        [
         "dbfs:/FileStore/bronze/votes/",
         "votes/",
         0,
         0
        ]
       ],
       "datasetInfos": [],
       "dbfsResultPath": null,
       "isJsonSchema": true,
       "metadata": {},
       "overflow": false,
       "plotOptions": {
        "customPlotOptions": {},
        "displayType": "table",
        "pivotAggregation": null,
        "pivotColumns": null,
        "xColumns": null,
        "yColumns": null
       },
       "removedWidgets": [],
       "schema": [
        {
         "metadata": "{}",
         "name": "path",
         "type": "\"string\""
        },
        {
         "metadata": "{}",
         "name": "name",
         "type": "\"string\""
        },
        {
         "metadata": "{}",
         "name": "size",
         "type": "\"long\""
        },
        {
         "metadata": "{}",
         "name": "modificationTime",
         "type": "\"long\""
        }
       ],
       "type": "table"
      }
     },
     "output_type": "display_data"
    },
    {
     "output_type": "stream",
     "name": "stdout",
     "output_type": "stream",
     "text": [
      "Dane zostały zapisane w formacie Delta Lake w warstwie brązowej.\n"
     ]
    }
   ],
   "source": [
    "# Zapisywanie DataFrame’ów do formatu Delta\n",
    "df_badges.write.format(\"delta\").mode(\"overwrite\").save(delta_path_badges)\n",
    "df_comments.write.format(\"delta\").mode(\"overwrite\").save(delta_path_comments)\n",
    "df_post_history.write.format(\"delta\").mode(\"overwrite\").save(delta_path_post_history)\n",
    "df_post_links.write.format(\"delta\").mode(\"overwrite\").save(delta_path_post_links)\n",
    "df_posts.write.format(\"delta\").mode(\"overwrite\").save(delta_path_posts)\n",
    "df_tags.write.format(\"delta\").mode(\"overwrite\").save(delta_path_tags)\n",
    "df_users.write.format(\"delta\").mode(\"overwrite\").save(delta_path_users)\n",
    "df_votes.write.format(\"delta\").mode(\"overwrite\").save(delta_path_votes)\n",
    "\n",
    "display(dbutils.fs.ls(\"/FileStore/bronze/\"))\n",
    "\n",
    "print(\"Dane zostały zapisane w formacie Delta Lake w warstwie brązowej.\")"
   ]
  },
  {
   "cell_type": "code",
   "execution_count": 0,
   "metadata": {
    "application/vnd.databricks.v1+cell": {
     "cellMetadata": {
      "byteLimit": 2048000,
      "rowLimit": 10000
     },
     "inputWidgets": {},
     "nuid": "0924d5ef-95db-4e45-b754-130fecbca072",
     "showTitle": false,
     "tableResultSettingsMap": {},
     "title": ""
    }
   },
   "outputs": [
    {
     "output_type": "stream",
     "name": "stdout",
     "output_type": "stream",
     "text": [
      "Tabela: badges, liczba rekordów: 159496\nTabela: comments, liczba rekordów: 103194\nTabela: post_history, liczba rekordów: 246174\nTabela: post_links, liczba rekordów: 5439\nTabela: posts, liczba rekordów: 64988\nTabela: tags, liczba rekordów: 4774\nTabela: users, liczba rekordów: 75729\nTabela: votes, liczba rekordów: 688874\n"
     ]
    }
   ],
   "source": [
    "for table_name in [\"badges\", \"comments\", \"post_history\", \"post_links\", \"posts\", \"tags\", \"users\", \"votes\"]:\n",
    "    df = spark.read.format(\"delta\").load(f\"dbfs:/FileStore/bronze/{table_name}\")\n",
    "    print(f\"Tabela: {table_name}, liczba rekordów: {df.count()}\")\n"
   ]
  },
  {
   "cell_type": "code",
   "execution_count": 0,
   "metadata": {
    "application/vnd.databricks.v1+cell": {
     "cellMetadata": {
      "byteLimit": 2048000,
      "rowLimit": 10000
     },
     "inputWidgets": {},
     "nuid": "9d0c48f7-834b-4dc3-9129-387fb48982b8",
     "showTitle": false,
     "tableResultSettingsMap": {},
     "title": ""
    }
   },
   "outputs": [
    {
     "output_type": "stream",
     "name": "stdout",
     "output_type": "stream",
     "text": [
      "Mounts successfully refreshed.\nOut[21]: True"
     ]
    }
   ],
   "source": [
    "dbutils.fs.refreshMounts()\n"
   ]
  },
  {
   "cell_type": "code",
   "execution_count": 0,
   "metadata": {
    "application/vnd.databricks.v1+cell": {
     "cellMetadata": {
      "byteLimit": 2048000,
      "rowLimit": 10000
     },
     "inputWidgets": {},
     "nuid": "2a087024-7905-46a9-82eb-a1da32ce31c2",
     "showTitle": false,
     "tableResultSettingsMap": {},
     "title": ""
    }
   },
   "outputs": [
    {
     "output_type": "display_data",
     "data": {
      "text/html": [
       "<style scoped>\n",
       "  .table-result-container {\n",
       "    max-height: 300px;\n",
       "    overflow: auto;\n",
       "  }\n",
       "  table, th, td {\n",
       "    border: 1px solid black;\n",
       "    border-collapse: collapse;\n",
       "  }\n",
       "  th, td {\n",
       "    padding: 5px;\n",
       "  }\n",
       "  th {\n",
       "    text-align: left;\n",
       "  }\n",
       "</style><div class='table-result-container'><table class='table-result'><thead style='background-color: white'><tr><th>path</th><th>name</th><th>size</th><th>modificationTime</th></tr></thead><tbody><tr><td>dbfs:/FileStore/bronze/badges/</td><td>badges/</td><td>0</td><td>0</td></tr><tr><td>dbfs:/FileStore/bronze/comments/</td><td>comments/</td><td>0</td><td>0</td></tr><tr><td>dbfs:/FileStore/bronze/post_history/</td><td>post_history/</td><td>0</td><td>0</td></tr><tr><td>dbfs:/FileStore/bronze/post_links/</td><td>post_links/</td><td>0</td><td>0</td></tr><tr><td>dbfs:/FileStore/bronze/posts/</td><td>posts/</td><td>0</td><td>0</td></tr><tr><td>dbfs:/FileStore/bronze/tags/</td><td>tags/</td><td>0</td><td>0</td></tr><tr><td>dbfs:/FileStore/bronze/users/</td><td>users/</td><td>0</td><td>0</td></tr><tr><td>dbfs:/FileStore/bronze/votes/</td><td>votes/</td><td>0</td><td>0</td></tr></tbody></table></div>"
      ]
     },
     "metadata": {
      "application/vnd.databricks.v1+output": {
       "addedWidgets": {},
       "aggData": [],
       "aggError": "",
       "aggOverflow": false,
       "aggSchema": [],
       "aggSeriesLimitReached": false,
       "aggType": "",
       "arguments": {},
       "columnCustomDisplayInfos": {},
       "data": [
        [
         "dbfs:/FileStore/bronze/badges/",
         "badges/",
         0,
         0
        ],
        [
         "dbfs:/FileStore/bronze/comments/",
         "comments/",
         0,
         0
        ],
        [
         "dbfs:/FileStore/bronze/post_history/",
         "post_history/",
         0,
         0
        ],
        [
         "dbfs:/FileStore/bronze/post_links/",
         "post_links/",
         0,
         0
        ],
        [
         "dbfs:/FileStore/bronze/posts/",
         "posts/",
         0,
         0
        ],
        [
         "dbfs:/FileStore/bronze/tags/",
         "tags/",
         0,
         0
        ],
        [
         "dbfs:/FileStore/bronze/users/",
         "users/",
         0,
         0
        ],
        [
         "dbfs:/FileStore/bronze/votes/",
         "votes/",
         0,
         0
        ]
       ],
       "datasetInfos": [],
       "dbfsResultPath": null,
       "isJsonSchema": true,
       "metadata": {},
       "overflow": false,
       "plotOptions": {
        "customPlotOptions": {},
        "displayType": "table",
        "pivotAggregation": null,
        "pivotColumns": null,
        "xColumns": null,
        "yColumns": null
       },
       "removedWidgets": [],
       "schema": [
        {
         "metadata": "{}",
         "name": "path",
         "type": "\"string\""
        },
        {
         "metadata": "{}",
         "name": "name",
         "type": "\"string\""
        },
        {
         "metadata": "{}",
         "name": "size",
         "type": "\"long\""
        },
        {
         "metadata": "{}",
         "name": "modificationTime",
         "type": "\"long\""
        }
       ],
       "type": "table"
      }
     },
     "output_type": "display_data"
    }
   ],
   "source": [
    "display(dbutils.fs.ls(\"/FileStore/bronze/\"))"
   ]
  },
  {
   "cell_type": "code",
   "execution_count": 0,
   "metadata": {
    "application/vnd.databricks.v1+cell": {
     "cellMetadata": {
      "byteLimit": 2048000,
      "rowLimit": 10000
     },
     "inputWidgets": {},
     "nuid": "1d2ba32f-c087-474b-a457-f87e11e61069",
     "showTitle": false,
     "tableResultSettingsMap": {},
     "title": ""
    }
   },
   "outputs": [
    {
     "output_type": "display_data",
     "data": {
      "text/html": [
       "<style scoped>\n",
       "  .table-result-container {\n",
       "    max-height: 300px;\n",
       "    overflow: auto;\n",
       "  }\n",
       "  table, th, td {\n",
       "    border: 1px solid black;\n",
       "    border-collapse: collapse;\n",
       "  }\n",
       "  th, td {\n",
       "    padding: 5px;\n",
       "  }\n",
       "  th {\n",
       "    text-align: left;\n",
       "  }\n",
       "</style><div class='table-result-container'><table class='table-result'><thead style='background-color: white'><tr><th>path</th><th>name</th><th>size</th><th>modificationTime</th></tr></thead><tbody><tr><td>dbfs:/FileStore/bronze/badges/_delta_log/</td><td>_delta_log/</td><td>0</td><td>0</td></tr><tr><td>dbfs:/FileStore/bronze/badges/part-00000-06ba7b25-bb0c-4021-a508-173d1cca047c-c000.snappy.parquet</td><td>part-00000-06ba7b25-bb0c-4021-a508-173d1cca047c-c000.snappy.parquet</td><td>2667549</td><td>1741789924000</td></tr><tr><td>dbfs:/FileStore/bronze/badges/part-00000-1af0d772-df75-4b08-b659-c725e1676251-c000.snappy.parquet</td><td>part-00000-1af0d772-df75-4b08-b659-c725e1676251-c000.snappy.parquet</td><td>2667549</td><td>1743712293000</td></tr><tr><td>dbfs:/FileStore/bronze/badges/part-00000-53faad06-2ebe-494d-a042-5de9730ef12b-c000.snappy.parquet</td><td>part-00000-53faad06-2ebe-494d-a042-5de9730ef12b-c000.snappy.parquet</td><td>2667549</td><td>1742395655000</td></tr><tr><td>dbfs:/FileStore/bronze/badges/part-00000-82abec67-0d59-41aa-ae16-fcb5080d0060-c000.snappy.parquet</td><td>part-00000-82abec67-0d59-41aa-ae16-fcb5080d0060-c000.snappy.parquet</td><td>2667549</td><td>1741791136000</td></tr></tbody></table></div>"
      ]
     },
     "metadata": {
      "application/vnd.databricks.v1+output": {
       "addedWidgets": {},
       "aggData": [],
       "aggError": "",
       "aggOverflow": false,
       "aggSchema": [],
       "aggSeriesLimitReached": false,
       "aggType": "",
       "arguments": {},
       "columnCustomDisplayInfos": {},
       "data": [
        [
         "dbfs:/FileStore/bronze/badges/_delta_log/",
         "_delta_log/",
         0,
         0
        ],
        [
         "dbfs:/FileStore/bronze/badges/part-00000-06ba7b25-bb0c-4021-a508-173d1cca047c-c000.snappy.parquet",
         "part-00000-06ba7b25-bb0c-4021-a508-173d1cca047c-c000.snappy.parquet",
         2667549,
         1741789924000
        ],
        [
         "dbfs:/FileStore/bronze/badges/part-00000-1af0d772-df75-4b08-b659-c725e1676251-c000.snappy.parquet",
         "part-00000-1af0d772-df75-4b08-b659-c725e1676251-c000.snappy.parquet",
         2667549,
         1743712293000
        ],
        [
         "dbfs:/FileStore/bronze/badges/part-00000-53faad06-2ebe-494d-a042-5de9730ef12b-c000.snappy.parquet",
         "part-00000-53faad06-2ebe-494d-a042-5de9730ef12b-c000.snappy.parquet",
         2667549,
         1742395655000
        ],
        [
         "dbfs:/FileStore/bronze/badges/part-00000-82abec67-0d59-41aa-ae16-fcb5080d0060-c000.snappy.parquet",
         "part-00000-82abec67-0d59-41aa-ae16-fcb5080d0060-c000.snappy.parquet",
         2667549,
         1741791136000
        ]
       ],
       "datasetInfos": [],
       "dbfsResultPath": null,
       "isJsonSchema": true,
       "metadata": {},
       "overflow": false,
       "plotOptions": {
        "customPlotOptions": {},
        "displayType": "table",
        "pivotAggregation": null,
        "pivotColumns": null,
        "xColumns": null,
        "yColumns": null
       },
       "removedWidgets": [],
       "schema": [
        {
         "metadata": "{}",
         "name": "path",
         "type": "\"string\""
        },
        {
         "metadata": "{}",
         "name": "name",
         "type": "\"string\""
        },
        {
         "metadata": "{}",
         "name": "size",
         "type": "\"long\""
        },
        {
         "metadata": "{}",
         "name": "modificationTime",
         "type": "\"long\""
        }
       ],
       "type": "table"
      }
     },
     "output_type": "display_data"
    }
   ],
   "source": [
    "display(dbutils.fs.ls(\"dbfs:/FileStore/bronze/badges/\"))\n"
   ]
  },
  {
   "cell_type": "code",
   "execution_count": 0,
   "metadata": {
    "application/vnd.databricks.v1+cell": {
     "cellMetadata": {
      "byteLimit": 2048000,
      "rowLimit": 10000
     },
     "inputWidgets": {},
     "nuid": "0b2751d7-4585-444d-b70e-034b3f06666f",
     "showTitle": false,
     "tableResultSettingsMap": {},
     "title": ""
    }
   },
   "outputs": [
    {
     "output_type": "stream",
     "name": "stdout",
     "output_type": "stream",
     "text": [
      "Rozmiar tabeli badges (w pamięci Spark): Serialized 1x Replicated\n"
     ]
    }
   ],
   "source": [
    "df_badges = spark.read.format(\"delta\").load(\"dbfs:/FileStore/bronze/badges/\")\n",
    "print(f\"Rozmiar tabeli badges (w pamięci Spark): {df_badges.storageLevel}\")\n"
   ]
  }
 ],
 "metadata": {
  "application/vnd.databricks.v1+notebook": {
   "computePreferences": null,
   "dashboards": [],
   "environmentMetadata": {
    "base_environment": "",
    "environment_version": "1"
   },
   "inputWidgetPreferences": null,
   "language": "python",
   "notebookMetadata": {
    "pythonIndentUnit": 4
   },
   "notebookName": "Bronze Layer",
   "widgets": {}
  }
 },
 "nbformat": 4,
 "nbformat_minor": 0
}