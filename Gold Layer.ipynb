{
 "cells": [
  {
   "cell_type": "markdown",
   "metadata": {
    "application/vnd.databricks.v1+cell": {
     "cellMetadata": {
      "byteLimit": 2048000,
      "rowLimit": 10000
     },
     "inputWidgets": {},
     "nuid": "a5f54190-0aff-408f-86a1-02b23005fe28",
     "showTitle": false,
     "tableResultSettingsMap": {},
     "title": ""
    }
   },
   "source": [
    "WARSTWA ZŁOTA - ARCHITEKTURA MEDALIONU\n",
    "\n",
    "Autor: Weronika Wąsikowska\n",
    "\n",
    "Opis: Pełna implementacja warstwy złotej dla danych Stack Exchange w formacie Delta Lake"
   ]
  },
  {
   "cell_type": "code",
   "execution_count": 0,
   "metadata": {
    "application/vnd.databricks.v1+cell": {
     "cellMetadata": {
      "byteLimit": 2048000,
      "rowLimit": 10000
     },
     "inputWidgets": {},
     "nuid": "0d67632d-6ed0-462a-8a79-9e8c6fc0463f",
     "showTitle": false,
     "tableResultSettingsMap": {},
     "title": ""
    }
   },
   "outputs": [],
   "source": [
    "from pyspark.sql import SparkSession\n",
    "from pyspark.sql.functions import to_date, year, month, dayofmonth, dayofweek, col, date_format, hour, minute, second, explode, date_trunc\n",
    "from functools import reduce\n",
    "from pyspark.sql import DataFrame\n",
    "import time\n",
    "\n",
    "#Inicjalizacja środowiska\n",
    "spark = SparkSession.builder.appName(\"GoldLayer\").getOrCreate()\n",
    "\n",
    "# Definicja ścieżek\n",
    "silver_path = \"dbfs:/FileStore/silver/\"\n",
    "gold_path = \"dbfs:/FileStore/gold/\"\n",
    "csv_export_path = \"dbfs:/FileStore/export/\"\n",
    "\n",
    "# Wczytanie danych z warstwy srebrnej\n",
    "df_list_silver = {\n",
    "    \"badges\": spark.read.format(\"delta\").load(silver_path + \"badges\"),\n",
    "    \"comments\": spark.read.format(\"delta\").load(silver_path + \"comments\"),\n",
    "    \"post_history\": spark.read.format(\"delta\").load(silver_path + \"post_history\"),\n",
    "    \"post_links\": spark.read.format(\"delta\").load(silver_path + \"post_links\"),\n",
    "    \"posts\": spark.read.format(\"delta\").load(silver_path + \"posts\"),\n",
    "    \"tags\": spark.read.format(\"delta\").load(silver_path + \"tags\"),\n",
    "    \"users\": spark.read.format(\"delta\").load(silver_path + \"users\"),\n",
    "    \"votes\": spark.read.format(\"delta\").load(silver_path + \"votes\"),\n",
    "}\n"
   ]
  },
  {
   "cell_type": "code",
   "execution_count": 0,
   "metadata": {
    "application/vnd.databricks.v1+cell": {
     "cellMetadata": {
      "byteLimit": 2048000,
      "rowLimit": 10000
     },
     "inputWidgets": {},
     "nuid": "cb1d1293-29da-498f-b627-9f43b076b101",
     "showTitle": false,
     "tableResultSettingsMap": {},
     "title": ""
    }
   },
   "outputs": [],
   "source": [
    "# Definicja zapisu danych do warstwy złotej i csv\n",
    "def save_table(df, table_name):\n",
    "    delta_path = gold_path + table_name\n",
    "    csv_path = \"dbfs:/FileStore/export/\" + table_name + \".csv\"\n",
    "\n",
    "    # Zapis do Delta Lake\n",
    "    dbutils.fs.rm(delta_path, True)\n",
    "    df.write.format(\"delta\").mode(\"overwrite\").save(delta_path)\n",
    "\n",
    "    # Zapis do CSV\n",
    "    dbutils.fs.rm(csv_path, True)\n",
    "    df.coalesce(1).write.option(\"header\", True).mode(\"overwrite\").csv(csv_path)"
   ]
  },
  {
   "cell_type": "code",
   "execution_count": 0,
   "metadata": {
    "application/vnd.databricks.v1+cell": {
     "cellMetadata": {
      "byteLimit": 2048000,
      "rowLimit": 10000
     },
     "inputWidgets": {},
     "nuid": "5308839c-6932-497d-ad37-f8804f0fbc25",
     "showTitle": false,
     "tableResultSettingsMap": {},
     "title": ""
    }
   },
   "outputs": [],
   "source": [
    "# Tworzenie tabel wymiarów\n",
    "\n",
    "# Wymiar użytkowników\n",
    "dim_users = df_list_silver[\"users\"].withColumnRenamed(\"id\", \"user_id\").dropDuplicates([\"user_id\"])\n",
    "save_table(dim_users, \"dim_users\")\n",
    "\n",
    "# Wymiar tagów\n",
    "dim_tags = df_list_silver[\"tags\"].withColumnRenamed(\"id\", \"tag_id\").dropDuplicates([\"tag_id\"])\n",
    "save_table(dim_tags, \"dim_tags\")\n",
    "\n",
    "# Wymiar czasu\n",
    "\n",
    "# Zebranie dat z różnych tabel\n",
    "dates_posts = df_list_silver[\"posts\"].select(col(\"creation_date\").alias(\"date\"))\n",
    "dates_votes = df_list_silver[\"votes\"].select(col(\"creation_date\").alias(\"date\"))\n",
    "dates_badges = df_list_silver[\"badges\"].select(col(\"date\").alias(\"date\"))\n",
    "\n",
    "# Połączenie wszystkich dat\n",
    "all_dates = reduce(DataFrame.unionAll, [dates_posts, dates_votes, dates_badges])\n",
    "\n",
    "# Zaokrąglenie do sekundy i usunięcie duplikatów\n",
    "all_dates = all_dates.withColumn(\"date_rounded\", date_trunc(\"second\", col(\"date\"))).drop(\"date\").dropDuplicates([\"date_rounded\"])\n",
    "\n",
    "# Tworzenie wymiaru czasu\n",
    "dim_time = all_dates \\\n",
    "    .withColumn(\"event_date\", col(\"date_rounded\")) \\\n",
    "    .withColumn(\"year\", year(\"event_date\")) \\\n",
    "    .withColumn(\"month\", month(\"event_date\")) \\\n",
    "    .withColumn(\"day\", dayofmonth(\"event_date\")) \\\n",
    "    .withColumn(\"hour\", hour(\"event_date\")) \\\n",
    "    .withColumn(\"minute\", minute(\"event_date\")) \\\n",
    "    .withColumn(\"second\", second(\"event_date\")) \\\n",
    "    .withColumn(\"weekday\", dayofweek(\"event_date\")) \\\n",
    "    .withColumn(\"date_id\", date_format(\"event_date\", \"yyyyMMddHHmmss\")) \\\n",
    "    .withColumn(\"day_id\", date_format(\"event_date\", \"yyyyMMdd\")) \\\n",
    "    .drop(\"date_rounded\")\n",
    "\n",
    "# Zapis tabeli dim_time\n",
    "save_table(dim_time, \"dim_time\")\n",
    "\n",
    "# Wymiar typów głosów\n",
    "dim_vote_type = df_list_silver[\"votes\"].select(\"vote_type_id\", \"vote_type\").dropDuplicates()\n",
    "save_table(dim_vote_type, \"dim_vote_type\")\n",
    "\n",
    "# Wymiar typów postów\n",
    "dim_post_type = df_list_silver[\"posts\"].select(\"post_type_id\", \"post_type\").dropDuplicates()\n",
    "save_table(dim_post_type, \"dim_post_type\")\n",
    "\n",
    "# Wymiar klas odznak\n",
    "dim_badge_class = df_list_silver[\"badges\"].select(\"class\", \"class_name\").dropDuplicates()\n",
    "save_table(dim_badge_class, \"dim_badge_class\")"
   ]
  },
  {
   "cell_type": "code",
   "execution_count": 0,
   "metadata": {
    "application/vnd.databricks.v1+cell": {
     "cellMetadata": {
      "byteLimit": 2048000,
      "rowLimit": 10000
     },
     "inputWidgets": {},
     "nuid": "9c8988d7-00e2-4e92-be83-6572d10691ab",
     "showTitle": false,
     "tableResultSettingsMap": {},
     "title": ""
    }
   },
   "outputs": [
    {
     "output_type": "stream",
     "name": "stdout",
     "output_type": "stream",
     "text": [
      "+-------+---+\n|date_id|cnt|\n+-------+---+\n+-------+---+\n\n"
     ]
    }
   ],
   "source": [
    "from pyspark.sql.functions import count\n",
    "\n",
    "dim_time.groupBy(\"date_id\") \\\n",
    "    .agg(count(\"*\").alias(\"cnt\")) \\\n",
    "    .filter(\"cnt > 1\") \\\n",
    "    .show()\n"
   ]
  },
  {
   "cell_type": "code",
   "execution_count": 0,
   "metadata": {
    "application/vnd.databricks.v1+cell": {
     "cellMetadata": {
      "byteLimit": 2048000,
      "rowLimit": 10000
     },
     "inputWidgets": {},
     "nuid": "e6e77c01-bda1-4f08-b2b4-dcce806154a5",
     "showTitle": false,
     "tableResultSettingsMap": {},
     "title": ""
    }
   },
   "outputs": [],
   "source": [
    "# Tworzenie tabel faktów\n",
    "\n",
    "# Tabela faktów votes\n",
    "fact_votes = df_list_silver[\"votes\"].select(\"id\", \"post_id\", \"user_id\", \"vote_type_id\", \"creation_date\", \"bounty_amount\", \"is_potential_duplicate\")\n",
    "save_table(fact_votes, \"fact_votes\")\n",
    "\n",
    "# Tabela faktów posts\n",
    "fact_posts = df_list_silver[\"posts\"].select(\"id\", \"post_type_id\", col(\"owner_user_id\").alias(\"user_id\"), \"creation_date\", \"score\", \"view_count\", \"favorite_count\", \"answer_count\", \"comment_count\")\n",
    "save_table(fact_posts, \"fact_posts\")\n",
    "\n",
    "# Tabela faktów badges\n",
    "fact_badges = df_list_silver[\"badges\"].select(\"id\", col(\"user_id\").alias(\"user_id\"), \"name\", \"class\", \"tag_based\", \"date\")\n",
    "save_table(fact_badges, \"fact_badges\")"
   ]
  },
  {
   "cell_type": "code",
   "execution_count": 0,
   "metadata": {
    "application/vnd.databricks.v1+cell": {
     "cellMetadata": {
      "byteLimit": 2048000,
      "rowLimit": 10000
     },
     "inputWidgets": {},
     "nuid": "02202655-60ed-4049-9848-86c36a089153",
     "showTitle": false,
     "tableResultSettingsMap": {},
     "title": ""
    }
   },
   "outputs": [],
   "source": [
    "# Tworzenie tabeli mostowej bridge_post_tags\n",
    "\n",
    "post_tags = df_list_silver[\"posts\"].select(\"id\", \"tags_array\") \\\n",
    "    .withColumn(\"tag\", explode(\"tags_array\")) \\\n",
    "    .select(col(\"id\").alias(\"post_id\"), col(\"tag\"))\n",
    "save_table(post_tags, \"bridge_post_tags\")"
   ]
  },
  {
   "cell_type": "code",
   "execution_count": 0,
   "metadata": {
    "application/vnd.databricks.v1+cell": {
     "cellMetadata": {
      "byteLimit": 2048000,
      "rowLimit": 10000
     },
     "inputWidgets": {},
     "nuid": "1801f182-82a5-417c-bee6-bd8401b27b43",
     "showTitle": false,
     "tableResultSettingsMap": {},
     "title": ""
    }
   },
   "outputs": [
    {
     "output_type": "stream",
     "name": "stdout",
     "output_type": "stream",
     "text": [
      " Tabela 'fact_posts' istnieje. Liczba rekordów: 64988\n Tabela 'fact_votes' istnieje. Liczba rekordów: 688874\n Tabela 'fact_badges' istnieje. Liczba rekordów: 159272\n Tabela 'dim_users' istnieje. Liczba rekordów: 75729\n Tabela 'dim_tags' istnieje. Liczba rekordów: 4774\n Tabela 'dim_vote_type' istnieje. Liczba rekordów: 14\n Tabela 'dim_post_type' istnieje. Liczba rekordów: 6\n Tabela 'dim_badge_class' istnieje. Liczba rekordów: 3\n Tabela 'dim_time' istnieje. Liczba rekordów: 199310\n Tabela 'post_tags' istnieje. Liczba rekordów: 89587\n"
     ]
    }
   ],
   "source": [
    "# Walidacja danych \n",
    "\n",
    "from pyspark.sql.utils import AnalysisException\n",
    "\n",
    "# Ścieżka do warstwy złotej\n",
    "gold_path = \"dbfs:/FileStore/gold/\"\n",
    "\n",
    "# Lista zapisanych tabel w warstwie złotej\n",
    "gold_tables = [\n",
    "    \"fact_posts\",\n",
    "    \"fact_votes\",\n",
    "    \"fact_badges\",\n",
    "    \"dim_users\",\n",
    "    \"dim_tags\",\n",
    "    \"dim_vote_type\",\n",
    "    \"dim_post_type\",\n",
    "    \"dim_badge_class\",\n",
    "    \"dim_time\",\n",
    "    \"post_tags\"\n",
    "]\n",
    "\n",
    "# Wczytaj każdą tabelę i sprawdź liczbę rekordów\n",
    "for table in gold_tables:\n",
    "    try:\n",
    "        df = spark.read.format(\"delta\").load(gold_path + table)\n",
    "        count = df.count()\n",
    "        print(f\" Tabela '{table}' istnieje. Liczba rekordów: {count}\")\n",
    "    except AnalysisException:\n",
    "        print(f\" Tabela '{table}' nie została znaleziona.\")\n"
   ]
  },
  {
   "cell_type": "code",
   "execution_count": 0,
   "metadata": {
    "application/vnd.databricks.v1+cell": {
     "cellMetadata": {
      "byteLimit": 2048000,
      "rowLimit": 10000
     },
     "inputWidgets": {},
     "nuid": "ef813a95-7da1-411a-95fe-0834e3eb6018",
     "showTitle": false,
     "tableResultSettingsMap": {},
     "title": ""
    }
   },
   "outputs": [
    {
     "output_type": "display_data",
     "data": {
      "text/html": [
       "<style scoped>\n",
       "  .table-result-container {\n",
       "    max-height: 300px;\n",
       "    overflow: auto;\n",
       "  }\n",
       "  table, th, td {\n",
       "    border: 1px solid black;\n",
       "    border-collapse: collapse;\n",
       "  }\n",
       "  th, td {\n",
       "    padding: 5px;\n",
       "  }\n",
       "  th {\n",
       "    text-align: left;\n",
       "  }\n",
       "</style><div class='table-result-container'><table class='table-result'><thead style='background-color: white'><tr><th>path</th><th>name</th><th>size</th><th>modificationTime</th></tr></thead><tbody><tr><td>dbfs:/FileStore/export/bridge_post_tags.csv/</td><td>bridge_post_tags.csv/</td><td>0</td><td>0</td></tr><tr><td>dbfs:/FileStore/export/dim_badge_class.csv/</td><td>dim_badge_class.csv/</td><td>0</td><td>0</td></tr><tr><td>dbfs:/FileStore/export/dim_post_type.csv/</td><td>dim_post_type.csv/</td><td>0</td><td>0</td></tr><tr><td>dbfs:/FileStore/export/dim_tags.csv/</td><td>dim_tags.csv/</td><td>0</td><td>0</td></tr><tr><td>dbfs:/FileStore/export/dim_time.csv/</td><td>dim_time.csv/</td><td>0</td><td>0</td></tr><tr><td>dbfs:/FileStore/export/dim_users.csv/</td><td>dim_users.csv/</td><td>0</td><td>0</td></tr><tr><td>dbfs:/FileStore/export/dim_vote_type.csv/</td><td>dim_vote_type.csv/</td><td>0</td><td>0</td></tr><tr><td>dbfs:/FileStore/export/fact_badges.csv/</td><td>fact_badges.csv/</td><td>0</td><td>0</td></tr><tr><td>dbfs:/FileStore/export/fact_posts.csv/</td><td>fact_posts.csv/</td><td>0</td><td>0</td></tr><tr><td>dbfs:/FileStore/export/fact_votes.csv/</td><td>fact_votes.csv/</td><td>0</td><td>0</td></tr></tbody></table></div>"
      ]
     },
     "metadata": {
      "application/vnd.databricks.v1+output": {
       "addedWidgets": {},
       "aggData": [],
       "aggError": "",
       "aggOverflow": false,
       "aggSchema": [],
       "aggSeriesLimitReached": false,
       "aggType": "",
       "arguments": {},
       "columnCustomDisplayInfos": {},
       "data": [
        [
         "dbfs:/FileStore/export/bridge_post_tags.csv/",
         "bridge_post_tags.csv/",
         0,
         0
        ],
        [
         "dbfs:/FileStore/export/dim_badge_class.csv/",
         "dim_badge_class.csv/",
         0,
         0
        ],
        [
         "dbfs:/FileStore/export/dim_post_type.csv/",
         "dim_post_type.csv/",
         0,
         0
        ],
        [
         "dbfs:/FileStore/export/dim_tags.csv/",
         "dim_tags.csv/",
         0,
         0
        ],
        [
         "dbfs:/FileStore/export/dim_time.csv/",
         "dim_time.csv/",
         0,
         0
        ],
        [
         "dbfs:/FileStore/export/dim_users.csv/",
         "dim_users.csv/",
         0,
         0
        ],
        [
         "dbfs:/FileStore/export/dim_vote_type.csv/",
         "dim_vote_type.csv/",
         0,
         0
        ],
        [
         "dbfs:/FileStore/export/fact_badges.csv/",
         "fact_badges.csv/",
         0,
         0
        ],
        [
         "dbfs:/FileStore/export/fact_posts.csv/",
         "fact_posts.csv/",
         0,
         0
        ],
        [
         "dbfs:/FileStore/export/fact_votes.csv/",
         "fact_votes.csv/",
         0,
         0
        ]
       ],
       "datasetInfos": [],
       "dbfsResultPath": null,
       "isJsonSchema": true,
       "metadata": {},
       "overflow": false,
       "plotOptions": {
        "customPlotOptions": {},
        "displayType": "table",
        "pivotAggregation": null,
        "pivotColumns": null,
        "xColumns": null,
        "yColumns": null
       },
       "removedWidgets": [],
       "schema": [
        {
         "metadata": "{}",
         "name": "path",
         "type": "\"string\""
        },
        {
         "metadata": "{}",
         "name": "name",
         "type": "\"string\""
        },
        {
         "metadata": "{}",
         "name": "size",
         "type": "\"long\""
        },
        {
         "metadata": "{}",
         "name": "modificationTime",
         "type": "\"long\""
        }
       ],
       "type": "table"
      }
     },
     "output_type": "display_data"
    }
   ],
   "source": [
    "display(dbutils.fs.ls(\"/FileStore/export/\"))"
   ]
  },
  {
   "cell_type": "code",
   "execution_count": 0,
   "metadata": {
    "application/vnd.databricks.v1+cell": {
     "cellMetadata": {
      "byteLimit": 2048000,
      "rowLimit": 10000
     },
     "inputWidgets": {},
     "nuid": "95ded116-0f8f-450b-9050-afabdec7d766",
     "showTitle": false,
     "tableResultSettingsMap": {},
     "title": ""
    }
   },
   "outputs": [
    {
     "output_type": "display_data",
     "data": {
      "text/html": [
       "<a href=\"https://community.cloud.databricks.com/files/export-ready/fact_posts.csv\" target=\"_blank\">📥 Pobierz plik: fact_posts.csv</a><br>"
      ]
     },
     "metadata": {
      "application/vnd.databricks.v1+output": {
       "addedWidgets": {},
       "arguments": {},
       "data": "<a href=\"https://community.cloud.databricks.com/files/export-ready/fact_posts.csv\" target=\"_blank\">📥 Pobierz plik: fact_posts.csv</a><br>",
       "datasetInfos": [],
       "metadata": {},
       "removedWidgets": [],
       "textData": null,
       "type": "htmlSandbox"
      }
     },
     "output_type": "display_data"
    },
    {
     "output_type": "display_data",
     "data": {
      "text/html": [
       "<a href=\"https://community.cloud.databricks.com/files/export-ready/fact_votes.csv\" target=\"_blank\">📥 Pobierz plik: fact_votes.csv</a><br>"
      ]
     },
     "metadata": {
      "application/vnd.databricks.v1+output": {
       "addedWidgets": {},
       "arguments": {},
       "data": "<a href=\"https://community.cloud.databricks.com/files/export-ready/fact_votes.csv\" target=\"_blank\">📥 Pobierz plik: fact_votes.csv</a><br>",
       "datasetInfos": [],
       "metadata": {},
       "removedWidgets": [],
       "textData": null,
       "type": "htmlSandbox"
      }
     },
     "output_type": "display_data"
    },
    {
     "output_type": "display_data",
     "data": {
      "text/html": [
       "<a href=\"https://community.cloud.databricks.com/files/export-ready/fact_badges.csv\" target=\"_blank\">📥 Pobierz plik: fact_badges.csv</a><br>"
      ]
     },
     "metadata": {
      "application/vnd.databricks.v1+output": {
       "addedWidgets": {},
       "arguments": {},
       "data": "<a href=\"https://community.cloud.databricks.com/files/export-ready/fact_badges.csv\" target=\"_blank\">📥 Pobierz plik: fact_badges.csv</a><br>",
       "datasetInfos": [],
       "metadata": {},
       "removedWidgets": [],
       "textData": null,
       "type": "htmlSandbox"
      }
     },
     "output_type": "display_data"
    },
    {
     "output_type": "display_data",
     "data": {
      "text/html": [
       "<a href=\"https://community.cloud.databricks.com/files/export-ready/dim_users.csv\" target=\"_blank\">📥 Pobierz plik: dim_users.csv</a><br>"
      ]
     },
     "metadata": {
      "application/vnd.databricks.v1+output": {
       "addedWidgets": {},
       "arguments": {},
       "data": "<a href=\"https://community.cloud.databricks.com/files/export-ready/dim_users.csv\" target=\"_blank\">📥 Pobierz plik: dim_users.csv</a><br>",
       "datasetInfos": [],
       "metadata": {},
       "removedWidgets": [],
       "textData": null,
       "type": "htmlSandbox"
      }
     },
     "output_type": "display_data"
    },
    {
     "output_type": "display_data",
     "data": {
      "text/html": [
       "<a href=\"https://community.cloud.databricks.com/files/export-ready/dim_tags.csv\" target=\"_blank\">📥 Pobierz plik: dim_tags.csv</a><br>"
      ]
     },
     "metadata": {
      "application/vnd.databricks.v1+output": {
       "addedWidgets": {},
       "arguments": {},
       "data": "<a href=\"https://community.cloud.databricks.com/files/export-ready/dim_tags.csv\" target=\"_blank\">📥 Pobierz plik: dim_tags.csv</a><br>",
       "datasetInfos": [],
       "metadata": {},
       "removedWidgets": [],
       "textData": null,
       "type": "htmlSandbox"
      }
     },
     "output_type": "display_data"
    },
    {
     "output_type": "display_data",
     "data": {
      "text/html": [
       "<a href=\"https://community.cloud.databricks.com/files/export-ready/dim_vote_type.csv\" target=\"_blank\">📥 Pobierz plik: dim_vote_type.csv</a><br>"
      ]
     },
     "metadata": {
      "application/vnd.databricks.v1+output": {
       "addedWidgets": {},
       "arguments": {},
       "data": "<a href=\"https://community.cloud.databricks.com/files/export-ready/dim_vote_type.csv\" target=\"_blank\">📥 Pobierz plik: dim_vote_type.csv</a><br>",
       "datasetInfos": [],
       "metadata": {},
       "removedWidgets": [],
       "textData": null,
       "type": "htmlSandbox"
      }
     },
     "output_type": "display_data"
    },
    {
     "output_type": "display_data",
     "data": {
      "text/html": [
       "<a href=\"https://community.cloud.databricks.com/files/export-ready/dim_badge_class.csv\" target=\"_blank\">📥 Pobierz plik: dim_badge_class.csv</a><br>"
      ]
     },
     "metadata": {
      "application/vnd.databricks.v1+output": {
       "addedWidgets": {},
       "arguments": {},
       "data": "<a href=\"https://community.cloud.databricks.com/files/export-ready/dim_badge_class.csv\" target=\"_blank\">📥 Pobierz plik: dim_badge_class.csv</a><br>",
       "datasetInfos": [],
       "metadata": {},
       "removedWidgets": [],
       "textData": null,
       "type": "htmlSandbox"
      }
     },
     "output_type": "display_data"
    },
    {
     "output_type": "display_data",
     "data": {
      "text/html": [
       "<a href=\"https://community.cloud.databricks.com/files/export-ready/dim_time.csv\" target=\"_blank\">📥 Pobierz plik: dim_time.csv</a><br>"
      ]
     },
     "metadata": {
      "application/vnd.databricks.v1+output": {
       "addedWidgets": {},
       "arguments": {},
       "data": "<a href=\"https://community.cloud.databricks.com/files/export-ready/dim_time.csv\" target=\"_blank\">📥 Pobierz plik: dim_time.csv</a><br>",
       "datasetInfos": [],
       "metadata": {},
       "removedWidgets": [],
       "textData": null,
       "type": "htmlSandbox"
      }
     },
     "output_type": "display_data"
    },
    {
     "output_type": "display_data",
     "data": {
      "text/html": [
       "<a href=\"https://community.cloud.databricks.com/files/export-ready/dim_post_type.csv\" target=\"_blank\">📥 Pobierz plik: dim_post_type.csv</a><br>"
      ]
     },
     "metadata": {
      "application/vnd.databricks.v1+output": {
       "addedWidgets": {},
       "arguments": {},
       "data": "<a href=\"https://community.cloud.databricks.com/files/export-ready/dim_post_type.csv\" target=\"_blank\">📥 Pobierz plik: dim_post_type.csv</a><br>",
       "datasetInfos": [],
       "metadata": {},
       "removedWidgets": [],
       "textData": null,
       "type": "htmlSandbox"
      }
     },
     "output_type": "display_data"
    },
    {
     "output_type": "display_data",
     "data": {
      "text/html": [
       "<a href=\"https://community.cloud.databricks.com/files/export-ready/bridge_post_tags.csv\" target=\"_blank\">📥 Pobierz plik: bridge_post_tags.csv</a><br>"
      ]
     },
     "metadata": {
      "application/vnd.databricks.v1+output": {
       "addedWidgets": {},
       "arguments": {},
       "data": "<a href=\"https://community.cloud.databricks.com/files/export-ready/bridge_post_tags.csv\" target=\"_blank\">📥 Pobierz plik: bridge_post_tags.csv</a><br>",
       "datasetInfos": [],
       "metadata": {},
       "removedWidgets": [],
       "textData": null,
       "type": "htmlSandbox"
      }
     },
     "output_type": "display_data"
    }
   ],
   "source": [
    "# Pobieranie plików\n",
    "\n",
    "def export_csv_with_download(df, name):\n",
    "    # Ścieżki robocze\n",
    "    temp_path = f\"dbfs:/FileStore/export/{name}.csv\"\n",
    "    final_path = f\"dbfs:/FileStore/export-ready/{name}.csv\"\n",
    "\n",
    "    # Usunięcie wcześniejszych wersji\n",
    "    dbutils.fs.rm(temp_path, True)\n",
    "    dbutils.fs.rm(final_path, True)\n",
    "\n",
    "    # Zapis do folderu tymczasowego jako pojedynczy plik\n",
    "    df.coalesce(1).write.option(\"header\", True).mode(\"overwrite\").csv(temp_path)\n",
    "\n",
    "    # Znalezienie pliku part-*.csv\n",
    "    files = dbutils.fs.ls(temp_path)\n",
    "    part_file = [f.path for f in files if f.name.startswith(\"part-\") and f.name.endswith(\".csv\")][0]\n",
    "\n",
    "    # Kopiowanie do widocznej lokalizacji\n",
    "    dbutils.fs.cp(part_file, final_path)\n",
    "\n",
    "    # Link do pobrania\n",
    "    download_url = f\"https://community.cloud.databricks.com/files/export-ready/{name}.csv\"\n",
    "    displayHTML(f'<a href=\"{download_url}\" target=\"_blank\">📥 Pobierz plik: {name}.csv</a><br>')\n",
    "\n",
    "\n",
    "# Lista tabel do eksportu\n",
    "csv_tables = {\n",
    "    \"fact_posts\": fact_posts,\n",
    "    \"fact_votes\": fact_votes,\n",
    "    \"fact_badges\": fact_badges,\n",
    "    \"dim_users\": dim_users,\n",
    "    \"dim_tags\": dim_tags,\n",
    "    \"dim_vote_type\": dim_vote_type,\n",
    "    \"dim_badge_class\": dim_badge_class,\n",
    "    \"dim_time\": dim_time,\n",
    "    \"dim_post_type\": dim_post_type,\n",
    "    \"bridge_post_tags\": post_tags\n",
    "}\n",
    "\n",
    "# Eksport i generowanie linków\n",
    "for name, df in csv_tables.items():\n",
    "    export_csv_with_download(df, name)\n"
   ]
  },
  {
   "cell_type": "code",
   "execution_count": 0,
   "metadata": {
    "application/vnd.databricks.v1+cell": {
     "cellMetadata": {
      "byteLimit": 2048000,
      "rowLimit": 10000
     },
     "inputWidgets": {},
     "nuid": "1565196f-4dca-4622-b9ac-29d66f8aed44",
     "showTitle": false,
     "tableResultSettingsMap": {},
     "title": ""
    }
   },
   "outputs": [
    {
     "output_type": "display_data",
     "data": {
      "text/html": [
       "<style scoped>\n",
       "  .table-result-container {\n",
       "    max-height: 300px;\n",
       "    overflow: auto;\n",
       "  }\n",
       "  table, th, td {\n",
       "    border: 1px solid black;\n",
       "    border-collapse: collapse;\n",
       "  }\n",
       "  th, td {\n",
       "    padding: 5px;\n",
       "  }\n",
       "  th {\n",
       "    text-align: left;\n",
       "  }\n",
       "</style><div class='table-result-container'><table class='table-result'><thead style='background-color: white'><tr><th>path</th><th>name</th><th>size</th><th>modificationTime</th></tr></thead><tbody><tr><td>dbfs:/FileStore/export-ready/bridge_post_tags.csv</td><td>bridge_post_tags.csv</td><td>1577135</td><td>1743767202000</td></tr><tr><td>dbfs:/FileStore/export-ready/dim_badge_class.csv</td><td>dim_badge_class.csv</td><td>42</td><td>1743767192000</td></tr><tr><td>dbfs:/FileStore/export-ready/dim_post_type.csv</td><td>dim_post_type.csv</td><td>115</td><td>1743767200000</td></tr><tr><td>dbfs:/FileStore/export-ready/dim_tags.csv</td><td>dim_tags.csv</td><td>144278</td><td>1743767187000</td></tr><tr><td>dbfs:/FileStore/export-ready/dim_time.csv</td><td>dim_time.csv</td><td>13791264</td><td>1743767198000</td></tr><tr><td>dbfs:/FileStore/export-ready/dim_users.csv</td><td>dim_users.csv</td><td>17035241</td><td>1743767185000</td></tr><tr><td>dbfs:/FileStore/export-ready/dim_vote_type.csv</td><td>dim_vote_type.csv</td><td>210</td><td>1743767190000</td></tr><tr><td>dbfs:/FileStore/export-ready/fact_badges.csv</td><td>fact_badges.csv</td><td>9054814</td><td>1743767179000</td></tr><tr><td>dbfs:/FileStore/export-ready/fact_posts.csv</td><td>fact_posts.csv</td><td>3191921</td><td>1743767167000</td></tr><tr><td>dbfs:/FileStore/export-ready/fact_votes.csv</td><td>fact_votes.csv</td><td>34757947</td><td>1743767175000</td></tr></tbody></table></div>"
      ]
     },
     "metadata": {
      "application/vnd.databricks.v1+output": {
       "addedWidgets": {},
       "aggData": [],
       "aggError": "",
       "aggOverflow": false,
       "aggSchema": [],
       "aggSeriesLimitReached": false,
       "aggType": "",
       "arguments": {},
       "columnCustomDisplayInfos": {},
       "data": [
        [
         "dbfs:/FileStore/export-ready/bridge_post_tags.csv",
         "bridge_post_tags.csv",
         1577135,
         1743767202000
        ],
        [
         "dbfs:/FileStore/export-ready/dim_badge_class.csv",
         "dim_badge_class.csv",
         42,
         1743767192000
        ],
        [
         "dbfs:/FileStore/export-ready/dim_post_type.csv",
         "dim_post_type.csv",
         115,
         1743767200000
        ],
        [
         "dbfs:/FileStore/export-ready/dim_tags.csv",
         "dim_tags.csv",
         144278,
         1743767187000
        ],
        [
         "dbfs:/FileStore/export-ready/dim_time.csv",
         "dim_time.csv",
         13791264,
         1743767198000
        ],
        [
         "dbfs:/FileStore/export-ready/dim_users.csv",
         "dim_users.csv",
         17035241,
         1743767185000
        ],
        [
         "dbfs:/FileStore/export-ready/dim_vote_type.csv",
         "dim_vote_type.csv",
         210,
         1743767190000
        ],
        [
         "dbfs:/FileStore/export-ready/fact_badges.csv",
         "fact_badges.csv",
         9054814,
         1743767179000
        ],
        [
         "dbfs:/FileStore/export-ready/fact_posts.csv",
         "fact_posts.csv",
         3191921,
         1743767167000
        ],
        [
         "dbfs:/FileStore/export-ready/fact_votes.csv",
         "fact_votes.csv",
         34757947,
         1743767175000
        ]
       ],
       "datasetInfos": [],
       "dbfsResultPath": null,
       "isJsonSchema": true,
       "metadata": {},
       "overflow": false,
       "plotOptions": {
        "customPlotOptions": {},
        "displayType": "table",
        "pivotAggregation": null,
        "pivotColumns": null,
        "xColumns": null,
        "yColumns": null
       },
       "removedWidgets": [],
       "schema": [
        {
         "metadata": "{}",
         "name": "path",
         "type": "\"string\""
        },
        {
         "metadata": "{}",
         "name": "name",
         "type": "\"string\""
        },
        {
         "metadata": "{}",
         "name": "size",
         "type": "\"long\""
        },
        {
         "metadata": "{}",
         "name": "modificationTime",
         "type": "\"long\""
        }
       ],
       "type": "table"
      }
     },
     "output_type": "display_data"
    }
   ],
   "source": [
    "display(dbutils.fs.ls(\"/FileStore/export-ready/\"))"
   ]
  },
  {
   "cell_type": "code",
   "execution_count": 0,
   "metadata": {
    "application/vnd.databricks.v1+cell": {
     "cellMetadata": {
      "byteLimit": 2048000,
      "rowLimit": 10000
     },
     "inputWidgets": {},
     "nuid": "a6978286-a75c-43b6-b66b-8351d3ec4693",
     "showTitle": false,
     "tableResultSettingsMap": {},
     "title": ""
    }
   },
   "outputs": [
    {
     "output_type": "display_data",
     "data": {
      "text/html": [
       "<a href=\"https://community.cloud.databricks.com/files/export-ready/dim_users.csv/part-00000-tid-8281192516808279051-9341f386-d929-4ef1-9b8a-80183e4b3862-773-1-c000.csv\" target=\"_blank\">📥 Pobierz plik dim_users.csv</a>"
      ]
     },
     "metadata": {
      "application/vnd.databricks.v1+output": {
       "addedWidgets": {},
       "arguments": {},
       "data": "<a href=\"https://community.cloud.databricks.com/files/export-ready/dim_users.csv/part-00000-tid-8281192516808279051-9341f386-d929-4ef1-9b8a-80183e4b3862-773-1-c000.csv\" target=\"_blank\">📥 Pobierz plik dim_users.csv</a>",
       "datasetInfos": [],
       "metadata": {},
       "removedWidgets": [],
       "textData": null,
       "type": "htmlSandbox"
      }
     },
     "output_type": "display_data"
    }
   ],
   "source": [
    "#Zapis dim_users.csv ponownie (osobno) z powodu błędów w odczycie \n",
    "from pyspark.sql.functions import col\n",
    "import re\n",
    "\n",
    "# Utworzenie wymiaru użytkowników\n",
    "df_dim_users = df_list_silver[\"users\"] \\\n",
    "    .withColumnRenamed(\"id\", \"user_id\") \\\n",
    "    .dropDuplicates([\"user_id\"])\n",
    "\n",
    "# Ścieżka do zapisu\n",
    "export_path = \"dbfs:/FileStore/export-ready/dim_users.csv\"\n",
    "\n",
    "# Usunięcie poprzednich plików (jeśli istnieją)\n",
    "dbutils.fs.rm(export_path, True)\n",
    "\n",
    "# Eksport CSV z obsługą znaków specjalnych\n",
    "df_dim_users.coalesce(1).write \\\n",
    "    .option(\"header\", True) \\\n",
    "    .option(\"quote\", '\"') \\\n",
    "    .option(\"escape\", '\"') \\\n",
    "    .option(\"multiLine\", True) \\\n",
    "    .mode(\"overwrite\") \\\n",
    "    .csv(export_path)\n",
    "\n",
    "# Automatyczne wykrycie nazwy pliku\n",
    "files = dbutils.fs.ls(export_path)\n",
    "csv_file = [f.path for f in files if f.path.endswith(\".csv\")][0]\n",
    "\n",
    "# Wyciągnięcie nazwy pliku (ostatni człon ścieżki)\n",
    "file_name = csv_file.split(\"/\")[-1]\n",
    "\n",
    "# Wygenerowanie linku do pobrania\n",
    "download_url = f\"https://community.cloud.databricks.com/files/export-ready/dim_users.csv/{file_name}\"\n",
    "displayHTML(f'<a href=\"{download_url}\" target=\"_blank\">📥 Pobierz plik dim_users.csv</a>')\n"
   ]
  },
  {
   "cell_type": "code",
   "execution_count": 0,
   "metadata": {
    "application/vnd.databricks.v1+cell": {
     "cellMetadata": {
      "byteLimit": 2048000,
      "rowLimit": 10000
     },
     "inputWidgets": {},
     "nuid": "ec5b1409-640b-41da-8c33-3c6571de8981",
     "showTitle": false,
     "tableResultSettingsMap": {},
     "title": ""
    }
   },
   "outputs": [
    {
     "output_type": "display_data",
     "data": {
      "text/html": [
       "<style scoped>\n",
       "  .table-result-container {\n",
       "    max-height: 300px;\n",
       "    overflow: auto;\n",
       "  }\n",
       "  table, th, td {\n",
       "    border: 1px solid black;\n",
       "    border-collapse: collapse;\n",
       "  }\n",
       "  th, td {\n",
       "    padding: 5px;\n",
       "  }\n",
       "  th {\n",
       "    text-align: left;\n",
       "  }\n",
       "</style><div class='table-result-container'><table class='table-result'><thead style='background-color: white'><tr><th>path</th><th>name</th><th>size</th><th>modificationTime</th></tr></thead><tbody><tr><td>dbfs:/FileStore/export/dim_users.csv/_SUCCESS</td><td>_SUCCESS</td><td>0</td><td>1743767183000</td></tr><tr><td>dbfs:/FileStore/export/dim_users.csv/_committed_5297017968719088424</td><td>_committed_5297017968719088424</td><td>113</td><td>1743767183000</td></tr><tr><td>dbfs:/FileStore/export/dim_users.csv/_started_5297017968719088424</td><td>_started_5297017968719088424</td><td>0</td><td>1743767181000</td></tr><tr><td>dbfs:/FileStore/export/dim_users.csv/part-00000-tid-5297017968719088424-dbc95bf3-dda5-4497-8623-72df51e411fc-728-1-c000.csv</td><td>part-00000-tid-5297017968719088424-dbc95bf3-dda5-4497-8623-72df51e411fc-728-1-c000.csv</td><td>17035241</td><td>1743767183000</td></tr></tbody></table></div>"
      ]
     },
     "metadata": {
      "application/vnd.databricks.v1+output": {
       "addedWidgets": {},
       "aggData": [],
       "aggError": "",
       "aggOverflow": false,
       "aggSchema": [],
       "aggSeriesLimitReached": false,
       "aggType": "",
       "arguments": {},
       "columnCustomDisplayInfos": {},
       "data": [
        [
         "dbfs:/FileStore/export/dim_users.csv/_SUCCESS",
         "_SUCCESS",
         0,
         1743767183000
        ],
        [
         "dbfs:/FileStore/export/dim_users.csv/_committed_5297017968719088424",
         "_committed_5297017968719088424",
         113,
         1743767183000
        ],
        [
         "dbfs:/FileStore/export/dim_users.csv/_started_5297017968719088424",
         "_started_5297017968719088424",
         0,
         1743767181000
        ],
        [
         "dbfs:/FileStore/export/dim_users.csv/part-00000-tid-5297017968719088424-dbc95bf3-dda5-4497-8623-72df51e411fc-728-1-c000.csv",
         "part-00000-tid-5297017968719088424-dbc95bf3-dda5-4497-8623-72df51e411fc-728-1-c000.csv",
         17035241,
         1743767183000
        ]
       ],
       "datasetInfos": [],
       "dbfsResultPath": null,
       "isJsonSchema": true,
       "metadata": {},
       "overflow": false,
       "plotOptions": {
        "customPlotOptions": {},
        "displayType": "table",
        "pivotAggregation": null,
        "pivotColumns": null,
        "xColumns": null,
        "yColumns": null
       },
       "removedWidgets": [],
       "schema": [
        {
         "metadata": "{}",
         "name": "path",
         "type": "\"string\""
        },
        {
         "metadata": "{}",
         "name": "name",
         "type": "\"string\""
        },
        {
         "metadata": "{}",
         "name": "size",
         "type": "\"long\""
        },
        {
         "metadata": "{}",
         "name": "modificationTime",
         "type": "\"long\""
        }
       ],
       "type": "table"
      }
     },
     "output_type": "display_data"
    }
   ],
   "source": [
    "display(dbutils.fs.ls(\"/FileStore/export/dim_users.csv/\"))"
   ]
  }
 ],
 "metadata": {
  "application/vnd.databricks.v1+notebook": {
   "computePreferences": null,
   "dashboards": [],
   "environmentMetadata": {
    "base_environment": "",
    "environment_version": "1"
   },
   "inputWidgetPreferences": null,
   "language": "python",
   "notebookMetadata": {
    "pythonIndentUnit": 4
   },
   "notebookName": "Gold Layer",
   "widgets": {}
  }
 },
 "nbformat": 4,
 "nbformat_minor": 0
}