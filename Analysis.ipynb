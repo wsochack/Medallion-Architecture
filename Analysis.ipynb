{
 "cells": [
  {
   "cell_type": "markdown",
   "metadata": {
    "application/vnd.databricks.v1+cell": {
     "cellMetadata": {},
     "inputWidgets": {},
     "nuid": "c0b86c6b-3104-4779-8d70-e0638b08c024",
     "showTitle": false,
     "tableResultSettingsMap": {},
     "title": ""
    }
   },
   "source": [
    "ANALIZA JAKOŚCI I WYDAJNOŚCI DANYCH\n",
    "\n",
    "Autor: Weronika Wąsikowska\n",
    "\n",
    "Opis: Porównanie warstw: brązowej, srebrnej i złotej architektury medalion dla tabel: posts i badges"
   ]
  },
  {
   "cell_type": "code",
   "execution_count": 0,
   "metadata": {
    "application/vnd.databricks.v1+cell": {
     "cellMetadata": {
      "byteLimit": 2048000,
      "rowLimit": 10000
     },
     "inputWidgets": {},
     "nuid": "0fcb6b9f-bbeb-42f6-86f9-6a389a28c2a9",
     "showTitle": false,
     "tableResultSettingsMap": {},
     "title": ""
    }
   },
   "outputs": [],
   "source": [
    "from pyspark.sql import SparkSession\n",
    "import time\n",
    "\n",
    "# Inicjalizacja sesji Spark\n",
    "spark = SparkSession.builder.appName(\"Analysis\").getOrCreate()"
   ]
  },
  {
   "cell_type": "code",
   "execution_count": 0,
   "metadata": {
    "application/vnd.databricks.v1+cell": {
     "cellMetadata": {
      "byteLimit": 2048000,
      "rowLimit": 10000
     },
     "inputWidgets": {},
     "nuid": "71d9d059-39b9-442b-aed5-b015f10fb9c9",
     "showTitle": false,
     "tableResultSettingsMap": {},
     "title": ""
    }
   },
   "outputs": [
    {
     "output_type": "stream",
     "name": "stdout",
     "output_type": "stream",
     "text": [
      "\n Porównanie jakości i wydajności danych dla tabeli 'badges'\n\n\n Warstwa: Bronze\n    Liczba rekordów: 159496\n    Czas odczytu: 1.16 sekund\n    Liczba kolumn: 6\n    Przykładowe kolumny: ['_Class', '_Date', '_Id', '_Name', '_TagBased'] ...\n\n Warstwa: Silver\n    Liczba rekordów: 159272\n    Czas odczytu: 0.59 sekund\n    Liczba kolumn: 7\n    Przykładowe kolumny: ['class', 'date', 'id', 'name', 'tag_based'] ...\n\n Warstwa: Gold\n    Liczba rekordów: 159272\n    Czas odczytu: 0.27 sekund\n    Liczba kolumn: 6\n    Przykładowe kolumny: ['id', 'user_id', 'name', 'class', 'tag_based'] ...\n"
     ]
    }
   ],
   "source": [
    "print(\"\\n Porównanie jakości i wydajności danych dla tabeli 'badges'\\n\")\n",
    "\n",
    "paths = {\n",
    "    \"Bronze\": \"dbfs:/FileStore/bronze/badges\",\n",
    "    \"Silver\": \"dbfs:/FileStore/silver/badges\",\n",
    "    \"Gold\": \"dbfs:/FileStore/gold/fact_badges\"\n",
    "}\n",
    "\n",
    "for level, path in paths.items():\n",
    "    try:\n",
    "        print(f\"\\n Warstwa: {level}\")\n",
    "        df = spark.read.format(\"delta\").load(path)\n",
    "\n",
    "        start_time = time.time()\n",
    "        count = df.count()\n",
    "        duration = round(time.time() - start_time, 2)\n",
    "\n",
    "        print(f\"    Liczba rekordów: {count}\")\n",
    "        print(f\"    Czas odczytu: {duration} sekund\")\n",
    "\n",
    "        columns = df.columns\n",
    "        print(f\"    Liczba kolumn: {len(columns)}\")\n",
    "        print(f\"    Przykładowe kolumny: {columns[:5]} ...\")\n",
    "        \n",
    "    except Exception as e:\n",
    "        print(f\" Błąd: Nie udało się wczytać danych z {path}\")\n",
    "        print(f\"   Szczegóły: {str(e)}\")"
   ]
  },
  {
   "cell_type": "code",
   "execution_count": 0,
   "metadata": {
    "application/vnd.databricks.v1+cell": {
     "cellMetadata": {
      "byteLimit": 2048000,
      "rowLimit": 10000
     },
     "inputWidgets": {},
     "nuid": "bc551784-90aa-4b4a-be52-2e756de7af79",
     "showTitle": false,
     "tableResultSettingsMap": {},
     "title": ""
    }
   },
   "outputs": [
    {
     "output_type": "stream",
     "name": "stdout",
     "output_type": "stream",
     "text": [
      "\n Porównanie jakości i wydajności danych dla tabeli 'posts'\n\n\n Warstwa: Bronze\n    Liczba rekordów: 64988\n    Czas odczytu: 0.72 sekund\n    Liczba kolumn: 22\n    Przykładowe kolumny: ['_AcceptedAnswerId', '_AnswerCount', '_Body', '_ClosedDate', '_CommentCount'] ...\n\n Warstwa: Silver\n    Liczba rekordów: 64988\n    Czas odczytu: 0.55 sekund\n    Liczba kolumn: 22\n    Przykładowe kolumny: ['accepted_answer_id', 'answer_count', 'body', 'closed_date', 'comment_count'] ...\n\n Warstwa: Gold\n    Liczba rekordów: 64988\n    Czas odczytu: 0.19 sekund\n    Liczba kolumn: 9\n    Przykładowe kolumny: ['id', 'post_type_id', 'user_id', 'creation_date', 'score'] ...\n"
     ]
    }
   ],
   "source": [
    "print(\"\\n Porównanie jakości i wydajności danych dla tabeli 'posts'\\n\")\n",
    "\n",
    "paths = {\n",
    "    \"Bronze\": \"dbfs:/FileStore/bronze/posts\",\n",
    "    \"Silver\": \"dbfs:/FileStore/silver/posts\",\n",
    "    \"Gold\": \"dbfs:/FileStore/gold/fact_posts\"\n",
    "}\n",
    "\n",
    "for level, path in paths.items():\n",
    "    try:\n",
    "        print(f\"\\n Warstwa: {level}\")\n",
    "        df = spark.read.format(\"delta\").load(path)\n",
    "\n",
    "        start_time = time.time()\n",
    "        count = df.count()\n",
    "        duration = round(time.time() - start_time, 2)\n",
    "\n",
    "        print(f\"    Liczba rekordów: {count}\")\n",
    "        print(f\"    Czas odczytu: {duration} sekund\")\n",
    "\n",
    "        columns = df.columns\n",
    "        print(f\"    Liczba kolumn: {len(columns)}\")\n",
    "        print(f\"    Przykładowe kolumny: {columns[:5]} ...\")\n",
    "        \n",
    "    except Exception as e:\n",
    "        print(f\" Błąd: Nie udało się wczytać danych z {path}\")\n",
    "        print(f\"   Szczegóły: {str(e)}\")"
   ]
  }
 ],
 "metadata": {
  "application/vnd.databricks.v1+notebook": {
   "computePreferences": null,
   "dashboards": [],
   "environmentMetadata": {
    "base_environment": "",
    "environment_version": "1"
   },
   "inputWidgetPreferences": null,
   "language": "python",
   "notebookMetadata": {
    "pythonIndentUnit": 4
   },
   "notebookName": "Analysis",
   "widgets": {}
  }
 },
 "nbformat": 4,
 "nbformat_minor": 0
}